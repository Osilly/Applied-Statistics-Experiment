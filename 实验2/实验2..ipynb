{
 "cells": [
  {
   "cell_type": "code",
   "execution_count": 1,
   "id": "996908e6",
   "metadata": {},
   "outputs": [],
   "source": [
    "import pandas as pd\n",
    "from pandas import DataFrame,Series\n",
    "import numpy as np\n",
    "import matplotlib.pyplot as plt\n",
    "from scipy import stats"
   ]
  },
  {
   "cell_type": "code",
   "execution_count": 2,
   "id": "f4140a21",
   "metadata": {},
   "outputs": [],
   "source": [
    "from pylab import mpl\n",
    "mpl.rcParams['font.sans-serif'] = ['Microsoft YaHei'] # 指定默认字体\n",
    "mpl.rcParams['axes.unicode_minus'] = False # 解决保存图像是负号'-'显示为方块的问题"
   ]
  },
  {
   "cell_type": "code",
   "execution_count": 3,
   "id": "c4013461",
   "metadata": {
    "scrolled": true
   },
   "outputs": [
    {
     "data": {
      "text/html": [
       "<div>\n",
       "<style scoped>\n",
       "    .dataframe tbody tr th:only-of-type {\n",
       "        vertical-align: middle;\n",
       "    }\n",
       "\n",
       "    .dataframe tbody tr th {\n",
       "        vertical-align: top;\n",
       "    }\n",
       "\n",
       "    .dataframe thead th {\n",
       "        text-align: right;\n",
       "    }\n",
       "</style>\n",
       "<table border=\"1\" class=\"dataframe\">\n",
       "  <thead>\n",
       "    <tr style=\"text-align: right;\">\n",
       "      <th></th>\n",
       "      <th>学生编号</th>\n",
       "      <th>月消费支出额（元）</th>\n",
       "    </tr>\n",
       "  </thead>\n",
       "  <tbody>\n",
       "    <tr>\n",
       "      <th>0</th>\n",
       "      <td>1</td>\n",
       "      <td>410</td>\n",
       "    </tr>\n",
       "    <tr>\n",
       "      <th>1</th>\n",
       "      <td>2</td>\n",
       "      <td>350</td>\n",
       "    </tr>\n",
       "    <tr>\n",
       "      <th>2</th>\n",
       "      <td>3</td>\n",
       "      <td>466</td>\n",
       "    </tr>\n",
       "    <tr>\n",
       "      <th>3</th>\n",
       "      <td>4</td>\n",
       "      <td>385</td>\n",
       "    </tr>\n",
       "    <tr>\n",
       "      <th>4</th>\n",
       "      <td>5</td>\n",
       "      <td>500</td>\n",
       "    </tr>\n",
       "    <tr>\n",
       "      <th>...</th>\n",
       "      <td>...</td>\n",
       "      <td>...</td>\n",
       "    </tr>\n",
       "    <tr>\n",
       "      <th>105</th>\n",
       "      <td>106</td>\n",
       "      <td>811</td>\n",
       "    </tr>\n",
       "    <tr>\n",
       "      <th>106</th>\n",
       "      <td>107</td>\n",
       "      <td>1109</td>\n",
       "    </tr>\n",
       "    <tr>\n",
       "      <th>107</th>\n",
       "      <td>108</td>\n",
       "      <td>1276</td>\n",
       "    </tr>\n",
       "    <tr>\n",
       "      <th>108</th>\n",
       "      <td>109</td>\n",
       "      <td>745</td>\n",
       "    </tr>\n",
       "    <tr>\n",
       "      <th>109</th>\n",
       "      <td>110</td>\n",
       "      <td>678</td>\n",
       "    </tr>\n",
       "  </tbody>\n",
       "</table>\n",
       "<p>110 rows × 2 columns</p>\n",
       "</div>"
      ],
      "text/plain": [
       "     学生编号  月消费支出额（元）\n",
       "0       1        410\n",
       "1       2        350\n",
       "2       3        466\n",
       "3       4        385\n",
       "4       5        500\n",
       "..    ...        ...\n",
       "105   106        811\n",
       "106   107       1109\n",
       "107   108       1276\n",
       "108   109        745\n",
       "109   110        678\n",
       "\n",
       "[110 rows x 2 columns]"
      ]
     },
     "execution_count": 3,
     "metadata": {},
     "output_type": "execute_result"
    }
   ],
   "source": [
    "data = pd.read_excel(r\"C:\\Users\\柠檬\\Desktop\\实验2\\1 第4章 数据特征的描述.xlsx\",sheet_name=1)\n",
    "data"
   ]
  },
  {
   "cell_type": "markdown",
   "id": "ffc320b4",
   "metadata": {},
   "source": [
    "# 第一题"
   ]
  },
  {
   "cell_type": "markdown",
   "id": "b67671dd",
   "metadata": {},
   "source": [
    "## 算术平均数"
   ]
  },
  {
   "cell_type": "code",
   "execution_count": 4,
   "id": "4ce04bff",
   "metadata": {},
   "outputs": [
    {
     "data": {
      "text/plain": [
       "597.0181818181818"
      ]
     },
     "execution_count": 4,
     "metadata": {},
     "output_type": "execute_result"
    }
   ],
   "source": [
    "average = data['月消费支出额（元）'].mean()\n",
    "average"
   ]
  },
  {
   "cell_type": "markdown",
   "id": "cc4234fc",
   "metadata": {},
   "source": [
    "## 调和平均数"
   ]
  },
  {
   "cell_type": "code",
   "execution_count": 5,
   "id": "0e8aebed",
   "metadata": {},
   "outputs": [
    {
     "data": {
      "text/plain": [
       "2.2737642585551328"
      ]
     },
     "execution_count": 5,
     "metadata": {},
     "output_type": "execute_result"
    }
   ],
   "source": [
    "data1 = pd.read_excel(r\"C:\\Users\\柠檬\\Desktop\\实验2\\1 第4章 数据特征的描述.xlsx\",sheet_name=0)\n",
    "hmean = stats.hmean(data1['单价'])\n",
    "hmean"
   ]
  },
  {
   "cell_type": "markdown",
   "id": "a4651b46",
   "metadata": {},
   "source": [
    "## 中位数"
   ]
  },
  {
   "cell_type": "code",
   "execution_count": 6,
   "id": "1b0e3d00",
   "metadata": {},
   "outputs": [
    {
     "data": {
      "text/plain": [
       "562.0"
      ]
     },
     "execution_count": 6,
     "metadata": {},
     "output_type": "execute_result"
    }
   ],
   "source": [
    "median = np.median(data['月消费支出额（元）'])\n",
    "median"
   ]
  },
  {
   "cell_type": "markdown",
   "id": "60a1d94b",
   "metadata": {},
   "source": [
    "## 众数"
   ]
  },
  {
   "cell_type": "code",
   "execution_count": 7,
   "id": "28ebe734",
   "metadata": {},
   "outputs": [
    {
     "data": {
      "text/plain": [
       "520"
      ]
     },
     "execution_count": 7,
     "metadata": {},
     "output_type": "execute_result"
    }
   ],
   "source": [
    "mode = stats.mode(data['月消费支出额（元）'])[0][0]\n",
    "mode"
   ]
  },
  {
   "cell_type": "markdown",
   "id": "feb92f57",
   "metadata": {},
   "source": [
    "## 几何平均数"
   ]
  },
  {
   "cell_type": "code",
   "execution_count": 8,
   "id": "2e461d84",
   "metadata": {
    "scrolled": true
   },
   "outputs": [
    {
     "data": {
      "text/plain": [
       "579.0721701196758"
      ]
     },
     "execution_count": 8,
     "metadata": {},
     "output_type": "execute_result"
    }
   ],
   "source": [
    "gmean= stats.gmean(data['月消费支出额（元）'])\n",
    "gmean"
   ]
  },
  {
   "cell_type": "markdown",
   "id": "0c4ea554",
   "metadata": {},
   "source": [
    "## 加权调和平均数"
   ]
  },
  {
   "cell_type": "code",
   "execution_count": 9,
   "id": "9f2bc95f",
   "metadata": {},
   "outputs": [
    {
     "data": {
      "text/plain": [
       "2.3144351464435147"
      ]
     },
     "execution_count": 9,
     "metadata": {},
     "output_type": "execute_result"
    }
   ],
   "source": [
    "data2 = pd.read_excel(r\"C:\\Users\\柠檬\\Desktop\\实验2\\1 第4章 数据特征的描述.xlsx\",sheet_name=2)\n",
    "weighted_harmonic_mean = 0\n",
    "x = data2['购买金额（元）']/data2['单价']\n",
    "weighted_harmonic_mean += x.sum()\n",
    "# print(weighted_harmonic_mean)\n",
    "weighted_harmonic_mean = data2['购买金额（元）'].sum()/weighted_harmonic_mean\n",
    "weighted_harmonic_mean"
   ]
  },
  {
   "cell_type": "markdown",
   "id": "090691b4",
   "metadata": {},
   "source": [
    "# 第二题"
   ]
  },
  {
   "cell_type": "markdown",
   "id": "7f5a1a09",
   "metadata": {},
   "source": [
    "## 最大值"
   ]
  },
  {
   "cell_type": "code",
   "execution_count": 10,
   "id": "2e81a9a2",
   "metadata": {},
   "outputs": [
    {
     "data": {
      "text/plain": [
       "1276"
      ]
     },
     "execution_count": 10,
     "metadata": {},
     "output_type": "execute_result"
    }
   ],
   "source": [
    "Max = np.max(data['月消费支出额（元）'])\n",
    "Max"
   ]
  },
  {
   "cell_type": "markdown",
   "id": "7db8d560",
   "metadata": {},
   "source": [
    "## 最小值"
   ]
  },
  {
   "cell_type": "code",
   "execution_count": 11,
   "id": "8b41d514",
   "metadata": {},
   "outputs": [
    {
     "data": {
      "text/plain": [
       "347"
      ]
     },
     "execution_count": 11,
     "metadata": {},
     "output_type": "execute_result"
    }
   ],
   "source": [
    "Min = np.min(data['月消费支出额（元）'])\n",
    "Min"
   ]
  },
  {
   "cell_type": "markdown",
   "id": "fe22d6ac",
   "metadata": {},
   "source": [
    "## 四分位点"
   ]
  },
  {
   "cell_type": "code",
   "execution_count": 12,
   "id": "002b9f39",
   "metadata": {},
   "outputs": [
    {
     "data": {
      "text/plain": [
       "array([497.5, 562. , 673. ])"
      ]
     },
     "execution_count": 12,
     "metadata": {},
     "output_type": "execute_result"
    }
   ],
   "source": [
    "quartile = np.percentile(data['月消费支出额（元）'], (25, 50, 75), interpolation='midpoint')\n",
    "quartile"
   ]
  },
  {
   "cell_type": "markdown",
   "id": "df79c845",
   "metadata": {},
   "source": [
    "## 样本标准差"
   ]
  },
  {
   "cell_type": "code",
   "execution_count": 13,
   "id": "67206e55",
   "metadata": {},
   "outputs": [
    {
     "data": {
      "text/plain": [
       "156.96291748229515"
      ]
     },
     "execution_count": 13,
     "metadata": {},
     "output_type": "execute_result"
    }
   ],
   "source": [
    "standard_deviation = np.std(data['月消费支出额（元）'], ddof=1)\n",
    "standard_deviation"
   ]
  },
  {
   "cell_type": "markdown",
   "id": "4e6dcbb8",
   "metadata": {},
   "source": [
    "## 峰度系数"
   ]
  },
  {
   "cell_type": "code",
   "execution_count": 14,
   "id": "dafabf37",
   "metadata": {},
   "outputs": [
    {
     "data": {
      "text/plain": [
       "3.0365767586677097"
      ]
     },
     "execution_count": 14,
     "metadata": {},
     "output_type": "execute_result"
    }
   ],
   "source": [
    "kurtosis_coefficient = data['月消费支出额（元）'].kurt()\n",
    "kurtosis_coefficient"
   ]
  },
  {
   "cell_type": "markdown",
   "id": "dcb613f3",
   "metadata": {},
   "source": [
    "## 偏态系数"
   ]
  },
  {
   "cell_type": "code",
   "execution_count": 15,
   "id": "0e487b42",
   "metadata": {},
   "outputs": [
    {
     "data": {
      "text/plain": [
       "1.3732950318171815"
      ]
     },
     "execution_count": 15,
     "metadata": {},
     "output_type": "execute_result"
    }
   ],
   "source": [
    "skewness_coefficient = data['月消费支出额（元）'].skew()\n",
    "skewness_coefficient"
   ]
  },
  {
   "cell_type": "markdown",
   "id": "76aeb74f",
   "metadata": {},
   "source": [
    "# 第三题"
   ]
  },
  {
   "cell_type": "code",
   "execution_count": 16,
   "id": "133eb19d",
   "metadata": {},
   "outputs": [
    {
     "data": {
      "text/html": [
       "<div>\n",
       "<style scoped>\n",
       "    .dataframe tbody tr th:only-of-type {\n",
       "        vertical-align: middle;\n",
       "    }\n",
       "\n",
       "    .dataframe tbody tr th {\n",
       "        vertical-align: top;\n",
       "    }\n",
       "\n",
       "    .dataframe thead th {\n",
       "        text-align: right;\n",
       "    }\n",
       "</style>\n",
       "<table border=\"1\" class=\"dataframe\">\n",
       "  <thead>\n",
       "    <tr style=\"text-align: right;\">\n",
       "      <th></th>\n",
       "      <th>Date</th>\n",
       "      <th>Cakes</th>\n",
       "      <th>Pies</th>\n",
       "      <th>Cookies</th>\n",
       "      <th>Smoothies</th>\n",
       "      <th>Coffee</th>\n",
       "    </tr>\n",
       "  </thead>\n",
       "  <tbody>\n",
       "    <tr>\n",
       "      <th>0</th>\n",
       "      <td>2013-01-01</td>\n",
       "      <td>79</td>\n",
       "      <td>46</td>\n",
       "      <td>518</td>\n",
       "      <td>60</td>\n",
       "      <td>233</td>\n",
       "    </tr>\n",
       "    <tr>\n",
       "      <th>1</th>\n",
       "      <td>2013-01-02</td>\n",
       "      <td>91</td>\n",
       "      <td>50</td>\n",
       "      <td>539</td>\n",
       "      <td>161</td>\n",
       "      <td>427</td>\n",
       "    </tr>\n",
       "    <tr>\n",
       "      <th>2</th>\n",
       "      <td>2013-01-03</td>\n",
       "      <td>47</td>\n",
       "      <td>60</td>\n",
       "      <td>222</td>\n",
       "      <td>166</td>\n",
       "      <td>347</td>\n",
       "    </tr>\n",
       "    <tr>\n",
       "      <th>3</th>\n",
       "      <td>2013-01-04</td>\n",
       "      <td>89</td>\n",
       "      <td>64</td>\n",
       "      <td>734</td>\n",
       "      <td>153</td>\n",
       "      <td>358</td>\n",
       "    </tr>\n",
       "    <tr>\n",
       "      <th>4</th>\n",
       "      <td>2013-01-05</td>\n",
       "      <td>112</td>\n",
       "      <td>73</td>\n",
       "      <td>764</td>\n",
       "      <td>240</td>\n",
       "      <td>392</td>\n",
       "    </tr>\n",
       "    <tr>\n",
       "      <th>...</th>\n",
       "      <td>...</td>\n",
       "      <td>...</td>\n",
       "      <td>...</td>\n",
       "      <td>...</td>\n",
       "      <td>...</td>\n",
       "      <td>...</td>\n",
       "    </tr>\n",
       "    <tr>\n",
       "      <th>1090</th>\n",
       "      <td>2015-12-27</td>\n",
       "      <td>136</td>\n",
       "      <td>49</td>\n",
       "      <td>700</td>\n",
       "      <td>265</td>\n",
       "      <td>483</td>\n",
       "    </tr>\n",
       "    <tr>\n",
       "      <th>1091</th>\n",
       "      <td>2015-12-28</td>\n",
       "      <td>77</td>\n",
       "      <td>45</td>\n",
       "      <td>605</td>\n",
       "      <td>69</td>\n",
       "      <td>408</td>\n",
       "    </tr>\n",
       "    <tr>\n",
       "      <th>1092</th>\n",
       "      <td>2015-12-29</td>\n",
       "      <td>93</td>\n",
       "      <td>56</td>\n",
       "      <td>508</td>\n",
       "      <td>185</td>\n",
       "      <td>452</td>\n",
       "    </tr>\n",
       "    <tr>\n",
       "      <th>1093</th>\n",
       "      <td>2015-12-30</td>\n",
       "      <td>62</td>\n",
       "      <td>28</td>\n",
       "      <td>458</td>\n",
       "      <td>141</td>\n",
       "      <td>356</td>\n",
       "    </tr>\n",
       "    <tr>\n",
       "      <th>1094</th>\n",
       "      <td>2015-12-31</td>\n",
       "      <td>65</td>\n",
       "      <td>56</td>\n",
       "      <td>491</td>\n",
       "      <td>190</td>\n",
       "      <td>446</td>\n",
       "    </tr>\n",
       "  </tbody>\n",
       "</table>\n",
       "<p>1095 rows × 6 columns</p>\n",
       "</div>"
      ],
      "text/plain": [
       "           Date  Cakes  Pies  Cookies  Smoothies  Coffee\n",
       "0    2013-01-01     79    46      518         60     233\n",
       "1    2013-01-02     91    50      539        161     427\n",
       "2    2013-01-03     47    60      222        166     347\n",
       "3    2013-01-04     89    64      734        153     358\n",
       "4    2013-01-05    112    73      764        240     392\n",
       "...         ...    ...   ...      ...        ...     ...\n",
       "1090 2015-12-27    136    49      700        265     483\n",
       "1091 2015-12-28     77    45      605         69     408\n",
       "1092 2015-12-29     93    56      508        185     452\n",
       "1093 2015-12-30     62    28      458        141     356\n",
       "1094 2015-12-31     65    56      491        190     446\n",
       "\n",
       "[1095 rows x 6 columns]"
      ]
     },
     "execution_count": 16,
     "metadata": {},
     "output_type": "execute_result"
    }
   ],
   "source": [
    "df = pd.read_excel(r\"C:\\Users\\柠檬\\Desktop\\实验2\\2 descriptive stats.xlsx\")\n",
    "df"
   ]
  },
  {
   "cell_type": "markdown",
   "id": "2c216085",
   "metadata": {},
   "source": [
    "## Cookies日销售量绘图如下"
   ]
  },
  {
   "cell_type": "code",
   "execution_count": 17,
   "id": "79ca6a55",
   "metadata": {
    "scrolled": true
   },
   "outputs": [
    {
     "data": {
      "text/plain": [
       "<BarContainer object of 1095 artists>"
      ]
     },
     "execution_count": 17,
     "metadata": {},
     "output_type": "execute_result"
    },
    {
     "data": {
      "image/png": "[encoded data removed]",
      "text/plain": [
       "<Figure size 432x288 with 1 Axes>"
      ]
     },
     "metadata": {
      "needs_background": "light"
     },
     "output_type": "display_data"
    }
   ],
   "source": [
    "plt.bar(range(1,1096),df['Cookies'])"
   ]
  },
  {
   "cell_type": "markdown",
   "id": "ebe4dc99",
   "metadata": {},
   "source": [
    "## 计算偏态系数如下"
   ]
  },
  {
   "cell_type": "code",
   "execution_count": 18,
   "id": "556db328",
   "metadata": {},
   "outputs": [
    {
     "data": {
      "text/plain": [
       "0.4402865556120628"
      ]
     },
     "execution_count": 18,
     "metadata": {},
     "output_type": "execute_result"
    }
   ],
   "source": [
    "skewness_coefficient_cookies = df['Cookies'].skew()\n",
    "skewness_coefficient_cookies"
   ]
  },
  {
   "cell_type": "markdown",
   "id": "ea5fa262",
   "metadata": {},
   "source": [
    "## 计算算术平均数、众数、中位数"
   ]
  },
  {
   "cell_type": "code",
   "execution_count": 19,
   "id": "8c325dbc",
   "metadata": {},
   "outputs": [
    {
     "name": "stdout",
     "output_type": "stream",
     "text": [
      "算数平均数： 540.4511415525114\n",
      "众数： 397\n",
      "中位数： 533.0\n"
     ]
    }
   ],
   "source": [
    "average_cookies = df['Cookies'].mean()\n",
    "print(\"算数平均数：\",average_cookies)\n",
    "mode_cookies = stats.mode(df['Cookies'])[0][0]\n",
    "print(\"众数：\",mode_cookies)\n",
    "median_cookies = np.median(df['Cookies'])\n",
    "print(\"中位数：\",median_cookies)"
   ]
  },
  {
   "cell_type": "markdown",
   "id": "975b9a65",
   "metadata": {},
   "source": [
    "观察得出：\n",
    "1. 算数平均数大于 众数和中位数\n",
    "2. 由偏态系数大于0\n",
    "\n",
    "综上得出结论：Cookies的数据是呈右偏分布（正偏分布）"
   ]
  },
  {
   "cell_type": "markdown",
   "id": "a40d2c25",
   "metadata": {},
   "source": [
    "# 第四题"
   ]
  },
  {
   "cell_type": "markdown",
   "id": "503d6b91",
   "metadata": {},
   "source": [
    "## 计算沙冰（Smoothies）的加权平均数"
   ]
  },
  {
   "cell_type": "code",
   "execution_count": 20,
   "id": "894353c6",
   "metadata": {},
   "outputs": [
    {
     "data": {
      "text/plain": [
       "218.46666666666667"
      ]
     },
     "execution_count": 20,
     "metadata": {},
     "output_type": "execute_result"
    }
   ],
   "source": [
    "average_smoothies = df['Smoothies'].mean()\n",
    "average_smoothies"
   ]
  },
  {
   "cell_type": "markdown",
   "id": "050aff18",
   "metadata": {},
   "source": [
    "## 计算沙冰（Smoothies）的标准差"
   ]
  },
  {
   "cell_type": "code",
   "execution_count": 21,
   "id": "57310cb2",
   "metadata": {},
   "outputs": [
    {
     "data": {
      "text/plain": [
       "74.31697221502316"
      ]
     },
     "execution_count": 21,
     "metadata": {},
     "output_type": "execute_result"
    }
   ],
   "source": [
    "standard_deviation_smoothies = np.std(df['Smoothies'])\n",
    "standard_deviation_smoothies"
   ]
  },
  {
   "cell_type": "markdown",
   "id": "adeef17a",
   "metadata": {},
   "source": [
    "## 经验法则"
   ]
  },
  {
   "cell_type": "code",
   "execution_count": 22,
   "id": "bde9de97",
   "metadata": {},
   "outputs": [
    {
     "name": "stdout",
     "output_type": "stream",
     "text": [
      "69.83272223662036 367.100611096713\n"
     ]
    }
   ],
   "source": [
    "l = average_smoothies - 2 * standard_deviation_smoothies\n",
    "r = average_smoothies + 2 * standard_deviation_smoothies\n",
    "print(l,r)"
   ]
  },
  {
   "cell_type": "markdown",
   "id": "ee48f8ef",
   "metadata": {},
   "source": [
    "根据经验法则，预计在95％的日子中，每天对沙冰（Smoothies）的需求位于69.83272223662036和367.100611096713之间。"
   ]
  },
  {
   "cell_type": "markdown",
   "id": "59041c78",
   "metadata": {},
   "source": [
    "## 异常点"
   ]
  },
  {
   "cell_type": "code",
   "execution_count": 23,
   "id": "4fd0c172",
   "metadata": {},
   "outputs": [
    {
     "name": "stdout",
     "output_type": "stream",
     "text": [
      "-4.484249978402801 441.41758331173617\n"
     ]
    }
   ],
   "source": [
    "abnormal_l = average_smoothies - 3 * standard_deviation_smoothies\n",
    "abnormal_r = average_smoothies + 3 * standard_deviation_smoothies\n",
    "print(abnormal_l,abnormal_r)"
   ]
  },
  {
   "cell_type": "code",
   "execution_count": 24,
   "id": "ea30aa35",
   "metadata": {
    "scrolled": true
   },
   "outputs": [
    {
     "name": "stdout",
     "output_type": "stream",
     "text": [
      "异常点数量：8\n",
      "异常点比例：0.007306\n"
     ]
    }
   ],
   "source": [
    "ans = 0\n",
    "for x in df['Smoothies'].values:\n",
    "    if x < abnormal_l or x > abnormal_r:\n",
    "        ans+=1\n",
    "print(\"异常点数量：%d\" %ans)\n",
    "print(\"异常点比例：%f\" %(ans/len(df['Smoothies'])))"
   ]
  },
  {
   "cell_type": "markdown",
   "id": "2742fc6b",
   "metadata": {},
   "source": [
    "沙冰需求是异常点的天数比例为0.007306"
   ]
  },
  {
   "cell_type": "markdown",
   "id": "d4dfa5ad",
   "metadata": {},
   "source": [
    "# 第五题"
   ]
  },
  {
   "cell_type": "markdown",
   "id": "1b090b1d",
   "metadata": {},
   "source": [
    "## 求出至少售出500个饼干（cookies）的日子"
   ]
  },
  {
   "cell_type": "code",
   "execution_count": 25,
   "id": "a5a819b5",
   "metadata": {},
   "outputs": [
    {
     "data": {
      "text/plain": [
       "[518,\n",
       " 539,\n",
       " 734,\n",
       " 764,\n",
       " 922,\n",
       " 587,\n",
       " 645,\n",
       " 568,\n",
       " 585,\n",
       " 536,\n",
       " 533,\n",
       " 647,\n",
       " 597,\n",
       " 590,\n",
       " 535,\n",
       " 508,\n",
       " 731,\n",
       " 602,\n",
       " 536,\n",
       " 518,\n",
       " 601,\n",
       " 599,\n",
       " 730,\n",
       " 820,\n",
       " 611,\n",
       " 549,\n",
       " 632,\n",
       " 689,\n",
       " 612,\n",
       " 599,\n",
       " 502,\n",
       " 551,\n",
       " 622,\n",
       " 597,\n",
       " 679,\n",
       " 513,\n",
       " 653,\n",
       " 674,\n",
       " 762,\n",
       " 605,\n",
       " 527,\n",
       " 639,\n",
       " 557,\n",
       " 718,\n",
       " 520,\n",
       " 515,\n",
       " 793,\n",
       " 585,\n",
       " 529,\n",
       " 528,\n",
       " 817,\n",
       " 515,\n",
       " 519,\n",
       " 552,\n",
       " 594,\n",
       " 522,\n",
       " 653,\n",
       " 633,\n",
       " 599,\n",
       " 564,\n",
       " 609,\n",
       " 632,\n",
       " 606,\n",
       " 631,\n",
       " 685,\n",
       " 757,\n",
       " 622,\n",
       " 635,\n",
       " 588,\n",
       " 552,\n",
       " 530,\n",
       " 581,\n",
       " 525,\n",
       " 740,\n",
       " 710,\n",
       " 611,\n",
       " 568,\n",
       " 595,\n",
       " 504,\n",
       " 521,\n",
       " 547,\n",
       " 631,\n",
       " 612,\n",
       " 513,\n",
       " 572,\n",
       " 601,\n",
       " 579,\n",
       " 502,\n",
       " 609,\n",
       " 543,\n",
       " 534,\n",
       " 844,\n",
       " 604,\n",
       " 681,\n",
       " 632,\n",
       " 791,\n",
       " 590,\n",
       " 504,\n",
       " 546,\n",
       " 848,\n",
       " 550,\n",
       " 885,\n",
       " 562,\n",
       " 572,\n",
       " 580,\n",
       " 561,\n",
       " 564,\n",
       " 611,\n",
       " 613,\n",
       " 816,\n",
       " 629,\n",
       " 556,\n",
       " 640,\n",
       " 621,\n",
       " 523,\n",
       " 506,\n",
       " 520,\n",
       " 507,\n",
       " 785,\n",
       " 586,\n",
       " 576,\n",
       " 752,\n",
       " 503,\n",
       " 608,\n",
       " 650,\n",
       " 639,\n",
       " 551,\n",
       " 548,\n",
       " 505,\n",
       " 522,\n",
       " 617,\n",
       " 507,\n",
       " 547,\n",
       " 549,\n",
       " 693,\n",
       " 522,\n",
       " 691,\n",
       " 633,\n",
       " 539,\n",
       " 603,\n",
       " 626,\n",
       " 725,\n",
       " 509,\n",
       " 665,\n",
       " 647,\n",
       " 598,\n",
       " 702,\n",
       " 506,\n",
       " 504,\n",
       " 528,\n",
       " 743,\n",
       " 777,\n",
       " 796,\n",
       " 551,\n",
       " 633,\n",
       " 507,\n",
       " 539,\n",
       " 675,\n",
       " 624,\n",
       " 726,\n",
       " 601,\n",
       " 688,\n",
       " 630,\n",
       " 648,\n",
       " 596,\n",
       " 514,\n",
       " 564,\n",
       " 701,\n",
       " 512,\n",
       " 884,\n",
       " 665,\n",
       " 730,\n",
       " 636,\n",
       " 543,\n",
       " 674,\n",
       " 568,\n",
       " 703,\n",
       " 512,\n",
       " 803,\n",
       " 855,\n",
       " 694,\n",
       " 526,\n",
       " 513,\n",
       " 692,\n",
       " 645,\n",
       " 575,\n",
       " 538,\n",
       " 647,\n",
       " 794,\n",
       " 694,\n",
       " 722,\n",
       " 684,\n",
       " 534,\n",
       " 557,\n",
       " 538,\n",
       " 681,\n",
       " 515,\n",
       " 704,\n",
       " 628,\n",
       " 613,\n",
       " 532,\n",
       " 591,\n",
       " 658,\n",
       " 514,\n",
       " 506,\n",
       " 752,\n",
       " 653,\n",
       " 620,\n",
       " 661,\n",
       " 644,\n",
       " 556,\n",
       " 671,\n",
       " 508,\n",
       " 525,\n",
       " 661,\n",
       " 542,\n",
       " 576,\n",
       " 714,\n",
       " 524,\n",
       " 500,\n",
       " 754,\n",
       " 572,\n",
       " 555,\n",
       " 554,\n",
       " 517,\n",
       " 752,\n",
       " 546,\n",
       " 548,\n",
       " 660,\n",
       " 690,\n",
       " 564,\n",
       " 510,\n",
       " 680,\n",
       " 525,\n",
       " 684,\n",
       " 818,\n",
       " 561,\n",
       " 509,\n",
       " 687,\n",
       " 679,\n",
       " 707,\n",
       " 593,\n",
       " 505,\n",
       " 562,\n",
       " 746,\n",
       " 776,\n",
       " 596,\n",
       " 534,\n",
       " 579,\n",
       " 552,\n",
       " 651,\n",
       " 752,\n",
       " 760,\n",
       " 691,\n",
       " 582,\n",
       " 519,\n",
       " 561,\n",
       " 581,\n",
       " 519,\n",
       " 530,\n",
       " 522,\n",
       " 698,\n",
       " 535,\n",
       " 541,\n",
       " 529,\n",
       " 603,\n",
       " 520,\n",
       " 624,\n",
       " 597,\n",
       " 516,\n",
       " 548,\n",
       " 545,\n",
       " 610,\n",
       " 530,\n",
       " 603,\n",
       " 761,\n",
       " 529,\n",
       " 552,\n",
       " 523,\n",
       " 690,\n",
       " 670,\n",
       " 529,\n",
       " 559,\n",
       " 718,\n",
       " 629,\n",
       " 686,\n",
       " 545,\n",
       " 649,\n",
       " 627,\n",
       " 837,\n",
       " 556,\n",
       " 606,\n",
       " 568,\n",
       " 659,\n",
       " 738,\n",
       " 706,\n",
       " 551,\n",
       " 504,\n",
       " 804,\n",
       " 602,\n",
       " 517,\n",
       " 526,\n",
       " 552,\n",
       " 896,\n",
       " 512,\n",
       " 575,\n",
       " 794,\n",
       " 693,\n",
       " 514,\n",
       " 640,\n",
       " 568,\n",
       " 502,\n",
       " 590,\n",
       " 693,\n",
       " 1152,\n",
       " 526,\n",
       " 609,\n",
       " 535,\n",
       " 634,\n",
       " 537,\n",
       " 541,\n",
       " 538,\n",
       " 555,\n",
       " 590,\n",
       " 743,\n",
       " 662,\n",
       " 554,\n",
       " 561,\n",
       " 671,\n",
       " 707,\n",
       " 533,\n",
       " 559,\n",
       " 789,\n",
       " 714,\n",
       " 548,\n",
       " 655,\n",
       " 559,\n",
       " 571,\n",
       " 530,\n",
       " 578,\n",
       " 701,\n",
       " 560,\n",
       " 623,\n",
       " 502,\n",
       " 552,\n",
       " 576,\n",
       " 886,\n",
       " 698,\n",
       " 555,\n",
       " 634,\n",
       " 759,\n",
       " 511,\n",
       " 681,\n",
       " 570,\n",
       " 788,\n",
       " 576,\n",
       " 575,\n",
       " 697,\n",
       " 555,\n",
       " 656,\n",
       " 590,\n",
       " 501,\n",
       " 514,\n",
       " 769,\n",
       " 697,\n",
       " 600,\n",
       " 626,\n",
       " 535,\n",
       " 631,\n",
       " 689,\n",
       " 585,\n",
       " 625,\n",
       " 514,\n",
       " 540,\n",
       " 637,\n",
       " 590,\n",
       " 532,\n",
       " 569,\n",
       " 527,\n",
       " 941,\n",
       " 658,\n",
       " 584,\n",
       " 508,\n",
       " 754,\n",
       " 582,\n",
       " 554,\n",
       " 528,\n",
       " 552,\n",
       " 840,\n",
       " 860,\n",
       " 613,\n",
       " 636,\n",
       " 614,\n",
       " 803,\n",
       " 722,\n",
       " 602,\n",
       " 744,\n",
       " 649,\n",
       " 549,\n",
       " 584,\n",
       " 512,\n",
       " 720,\n",
       " 745,\n",
       " 594,\n",
       " 558,\n",
       " 561,\n",
       " 601,\n",
       " 746,\n",
       " 629,\n",
       " 582,\n",
       " 657,\n",
       " 685,\n",
       " 577,\n",
       " 716,\n",
       " 533,\n",
       " 566,\n",
       " 686,\n",
       " 594,\n",
       " 707,\n",
       " 581,\n",
       " 532,\n",
       " 657,\n",
       " 647,\n",
       " 650,\n",
       " 663,\n",
       " 600,\n",
       " 601,\n",
       " 555,\n",
       " 555,\n",
       " 575,\n",
       " 742,\n",
       " 570,\n",
       " 526,\n",
       " 641,\n",
       " 614,\n",
       " 596,\n",
       " 668,\n",
       " 759,\n",
       " 580,\n",
       " 559,\n",
       " 778,\n",
       " 702,\n",
       " 568,\n",
       " 629,\n",
       " 595,\n",
       " 513,\n",
       " 521,\n",
       " 578,\n",
       " 883,\n",
       " 713,\n",
       " 845,\n",
       " 565,\n",
       " 576,\n",
       " 594,\n",
       " 764,\n",
       " 525,\n",
       " 629,\n",
       " 530,\n",
       " 684,\n",
       " 634,\n",
       " 552,\n",
       " 538,\n",
       " 621,\n",
       " 584,\n",
       " 670,\n",
       " 648,\n",
       " 568,\n",
       " 674,\n",
       " 581,\n",
       " 614,\n",
       " 508,\n",
       " 751,\n",
       " 597,\n",
       " 530,\n",
       " 585,\n",
       " 696,\n",
       " 708,\n",
       " 523,\n",
       " 726,\n",
       " 686,\n",
       " 547,\n",
       " 744,\n",
       " 711,\n",
       " 541,\n",
       " 584,\n",
       " 576,\n",
       " 521,\n",
       " 701,\n",
       " 658,\n",
       " 575,\n",
       " 616,\n",
       " 657,\n",
       " 760,\n",
       " 559,\n",
       " 511,\n",
       " 682,\n",
       " 517,\n",
       " 705,\n",
       " 571,\n",
       " 760,\n",
       " 691,\n",
       " 556,\n",
       " 501,\n",
       " 699,\n",
       " 744,\n",
       " 917,\n",
       " 678,\n",
       " 598,\n",
       " 642,\n",
       " 704,\n",
       " 665,\n",
       " 736,\n",
       " 768,\n",
       " 569,\n",
       " 543,\n",
       " 546,\n",
       " 759,\n",
       " 716,\n",
       " 525,\n",
       " 539,\n",
       " 623,\n",
       " 750,\n",
       " 684,\n",
       " 563,\n",
       " 553,\n",
       " 515,\n",
       " 625,\n",
       " 638,\n",
       " 548,\n",
       " 622,\n",
       " 548,\n",
       " 519,\n",
       " 621,\n",
       " 600,\n",
       " 595,\n",
       " 551,\n",
       " 505,\n",
       " 501,\n",
       " 602,\n",
       " 514,\n",
       " 814,\n",
       " 606,\n",
       " 699,\n",
       " 645,\n",
       " 521,\n",
       " 564,\n",
       " 868,\n",
       " 640,\n",
       " 525,\n",
       " 581,\n",
       " 627,\n",
       " 635,\n",
       " 688,\n",
       " 678,\n",
       " 623,\n",
       " 526,\n",
       " 615,\n",
       " 538,\n",
       " 538,\n",
       " 595,\n",
       " 612,\n",
       " 544,\n",
       " 749,\n",
       " 662,\n",
       " 526,\n",
       " 539,\n",
       " 570,\n",
       " 643,\n",
       " 656,\n",
       " 702,\n",
       " 534,\n",
       " 787,\n",
       " 913,\n",
       " 846,\n",
       " 588,\n",
       " 669,\n",
       " 657,\n",
       " 695,\n",
       " 692,\n",
       " 577,\n",
       " 536,\n",
       " 686,\n",
       " 619,\n",
       " 785,\n",
       " 593,\n",
       " 584,\n",
       " 576,\n",
       " 656,\n",
       " 640,\n",
       " 777,\n",
       " 762,\n",
       " 543,\n",
       " 746,\n",
       " 621,\n",
       " 818,\n",
       " 651,\n",
       " 545,\n",
       " 510,\n",
       " 618,\n",
       " 532,\n",
       " 977,\n",
       " 718,\n",
       " 636,\n",
       " 602,\n",
       " 635,\n",
       " 966,\n",
       " 682,\n",
       " 653,\n",
       " 849,\n",
       " 534,\n",
       " 719,\n",
       " 567,\n",
       " 515,\n",
       " 539,\n",
       " 537,\n",
       " 549,\n",
       " 573,\n",
       " 566,\n",
       " 584,\n",
       " 589,\n",
       " 650,\n",
       " 506,\n",
       " 826,\n",
       " 689,\n",
       " 581,\n",
       " 981,\n",
       " 514,\n",
       " 533,\n",
       " 612,\n",
       " 646,\n",
       " 523,\n",
       " 713,\n",
       " 628,\n",
       " 614,\n",
       " 792,\n",
       " 529,\n",
       " 699,\n",
       " 799,\n",
       " 564,\n",
       " 554,\n",
       " 559,\n",
       " 596,\n",
       " 532,\n",
       " 678,\n",
       " 535,\n",
       " 734,\n",
       " 846,\n",
       " 562,\n",
       " 728,\n",
       " 907,\n",
       " 590,\n",
       " 707,\n",
       " 598,\n",
       " 638,\n",
       " 589,\n",
       " 657,\n",
       " 570,\n",
       " 505,\n",
       " 564,\n",
       " 838,\n",
       " 700,\n",
       " 605,\n",
       " 508]"
      ]
     },
     "execution_count": 25,
     "metadata": {},
     "output_type": "execute_result"
    }
   ],
   "source": [
    "num = []\n",
    "for x in df['Cookies']:\n",
    "    if(x >= 500):\n",
    "        num.append(x)\n",
    "num"
   ]
  },
  {
   "cell_type": "markdown",
   "id": "559e6de3",
   "metadata": {},
   "source": [
    "## 求中位数"
   ]
  },
  {
   "cell_type": "code",
   "execution_count": 26,
   "id": "2be95277",
   "metadata": {},
   "outputs": [
    {
     "data": {
      "text/plain": [
       "600.0"
      ]
     },
     "execution_count": 26,
     "metadata": {},
     "output_type": "execute_result"
    }
   ],
   "source": [
    "median_upper = np.median(num)\n",
    "median_upper"
   ]
  },
  {
   "cell_type": "markdown",
   "id": "8cef2ddc",
   "metadata": {},
   "source": [
    "在每天至少售出500个饼干（cookies）的日子中蛋糕销售的中位数为600个"
   ]
  },
  {
   "cell_type": "code",
   "execution_count": null,
   "id": "80e17af7",
   "metadata": {},
   "outputs": [],
   "source": []
  }
 ],
 "metadata": {
  "kernelspec": {
   "display_name": "Python [conda env:py37] *",
   "language": "python",
   "name": "conda-env-py37-py"
  },
  "language_info": {
   "codemirror_mode": {
    "name": "ipython",
    "version": 3
   },
   "file_extension": ".py",
   "mimetype": "text/x-python",
   "name": "python",
   "nbconvert_exporter": "python",
   "pygments_lexer": "ipython3",
   "version": "3.7.10"
  }
 },
 "nbformat": 4,
 "nbformat_minor": 5
}
