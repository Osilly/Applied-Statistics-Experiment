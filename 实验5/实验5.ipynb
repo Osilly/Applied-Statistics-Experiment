{
 "cells": [
  {
   "cell_type": "code",
   "execution_count": 1,
   "id": "70d55b02",
   "metadata": {},
   "outputs": [],
   "source": [
    "import pandas as pd\n",
    "from pandas import DataFrame,Series\n",
    "import numpy as np\n",
    "import matplotlib.pyplot as plt\n",
    "from scipy import stats\n",
    "import math\n",
    "import random\n",
    "import statsmodels.stats.weightstats as sw"
   ]
  },
  {
   "cell_type": "code",
   "execution_count": 2,
   "id": "f536df9c",
   "metadata": {},
   "outputs": [],
   "source": [
    "from pylab import mpl\n",
    "mpl.rcParams['font.sans-serif'] = ['Microsoft YaHei'] # 指定默认字体\n",
    "mpl.rcParams['axes.unicode_minus'] = False # 解决保存图像是负号'-'显示为方块的问题"
   ]
  },
  {
   "cell_type": "markdown",
   "id": "4daae3c1",
   "metadata": {},
   "source": [
    "# 例题7.2"
   ]
  },
  {
   "cell_type": "markdown",
   "id": "76f63692",
   "metadata": {},
   "source": [
    "设高、中、低管理者评分的均值为u1、u2、u3"
   ]
  },
  {
   "cell_type": "markdown",
   "id": "61fad8ee",
   "metadata": {},
   "source": [
    "## 提出假设"
   ]
  },
  {
   "cell_type": "markdown",
   "id": "bf6aeccb",
   "metadata": {},
   "source": [
    "H0：u1=u2=u3\n",
    "\n",
    "H1：u1、u2、u3不全相等"
   ]
  },
  {
   "cell_type": "markdown",
   "id": "35a54502",
   "metadata": {},
   "source": [
    "## 计算均值"
   ]
  },
  {
   "cell_type": "code",
   "execution_count": 3,
   "id": "0eefe711",
   "metadata": {},
   "outputs": [
    {
     "name": "stdout",
     "output_type": "stream",
     "text": [
      "x1:7.600000 x2:8.857143 x3:5.833333\n",
      "x:7.430159\n"
     ]
    }
   ],
   "source": [
    "x1 = (7+7+8+7+9)/5\n",
    "x2 = (8+9+8+10+9+10+8)/7\n",
    "x3 = (5+6+5+7+4+8)/6\n",
    "x = (x1+x2+x3)/3\n",
    "print(\"x1:%f x2:%f x3:%f\\nx:%f\"%(x1,x2,x3,x))"
   ]
  },
  {
   "cell_type": "markdown",
   "id": "4323a576",
   "metadata": {},
   "source": [
    "## 计算SSA和SSE"
   ]
  },
  {
   "cell_type": "code",
   "execution_count": 4,
   "id": "768e7638",
   "metadata": {},
   "outputs": [
    {
     "name": "stdout",
     "output_type": "stream",
     "text": [
      "ssa:29.697324\n",
      "sse:18.890476\n"
     ]
    }
   ],
   "source": [
    "ssa = ((x1-x)**2)*5+((x2-x)**2)*7+((x3-x)**2)*6\n",
    "sse = (((7-x1)**2)+((7-x1)**2)+((8-x1)**2)+((7-x1)**2)+((9-x1)**2)) + (((8-x2)**2)+((9-x2)**2)+((8-x2)**2)+((10-x2)**2)+((9-x2)**2))+(((10-x2)**2)+((8-x2)**2)) + ((((5-x3)**2)+((6-x3)**2)+((5-x3)**2)+((7-x3)**2)+((4-x3)**2))+((8-x3)**2))                                                        \n",
    "print(\"ssa:%f\\nsse:%f\"%(ssa,sse))"
   ]
  },
  {
   "cell_type": "markdown",
   "id": "cdc478c9",
   "metadata": {},
   "source": [
    "## 计算检验统计量F"
   ]
  },
  {
   "cell_type": "code",
   "execution_count": 5,
   "id": "24deec2c",
   "metadata": {},
   "outputs": [
    {
     "name": "stdout",
     "output_type": "stream",
     "text": [
      "dfa:2.000000 dfe:15.000000\n",
      "msa:14.848662 mse:1.259365\n",
      "f:11.790594\n",
      "F临界值:3.098391\n"
     ]
    }
   ],
   "source": [
    "dfa = 2\n",
    "dfe = 15\n",
    "msa = ssa/dfa\n",
    "mse = sse/dfe\n",
    "f = msa/mse\n",
    "# F~F(2,15)\n",
    "F = stats.f.ppf(0.95,dfn=3,dfd=20)\n",
    "print(\"dfa:%f dfe:%f\\nmsa:%f mse:%f\\nf:%f\\nF临界值:%f\"%(dfa,dfe,msa,mse,f,F))"
   ]
  },
  {
   "cell_type": "markdown",
   "id": "b33398fe",
   "metadata": {},
   "source": [
    "单因素方差分析结果：\n",
    "\n",
    "| 误差来源 | 离差平方和SS | 自由度df | 均方MS    | 检验统计量F | P值      | F临界值  |\n",
    "| -------- | ------------ | -------- | --------- | ----------- | -------- | -------- |\n",
    "| 组件     | 29.697324    | 2        | 14.848662 | 11.790594      | 0.000849 | 3.098391 |\n",
    "| 组内     | 18.890476    | 15       | 1.259365  |             |          |          |\n",
    "| 合计     | 48.587800    | 17       |           |             |          |          |"
   ]
  },
  {
   "cell_type": "markdown",
   "id": "7a53fb71",
   "metadata": {},
   "source": [
    "## 决策"
   ]
  },
  {
   "cell_type": "markdown",
   "id": "6fb415fb",
   "metadata": {},
   "source": [
    "因为统计检测量F（11.790594）大于 F临界值（3.098391），所以因拒绝原假设"
   ]
  },
  {
   "cell_type": "markdown",
   "id": "9d0de684",
   "metadata": {},
   "source": [
    "# 例题7.5"
   ]
  },
  {
   "cell_type": "markdown",
   "id": "d1b56f3d",
   "metadata": {},
   "source": [
    "## 提出假设"
   ]
  },
  {
   "cell_type": "markdown",
   "id": "c89820d8",
   "metadata": {},
   "source": [
    "对列因素A：\n",
    "\n",
    "H0:u1=u2=u3=u4=u5\n",
    "\n",
    "H1:u1、u2、u3、u4、u5不全相等\n",
    "\n",
    "对列因素B：\n",
    "\n",
    "H0:u1=u2=u3=u4\n",
    "\n",
    "H1:u1、u2、u3、u4、u5不全相等"
   ]
  },
  {
   "cell_type": "markdown",
   "id": "9f18b2f1",
   "metadata": {},
   "source": [
    "## 计算各离差平方和"
   ]
  },
  {
   "cell_type": "code",
   "execution_count": 6,
   "id": "7d74ae90",
   "metadata": {},
   "outputs": [
    {
     "name": "stdout",
     "output_type": "stream",
     "text": [
      "ssa:298.800000\n",
      "ssb:111.000000\n",
      "sst:643.800000\n",
      "sse:234.000000\n"
     ]
    }
   ],
   "source": [
    "ssa=4*(((20.5-14.1)**2)+((10-14.1)**2)+((16.5-14.1)**2)+((11.5-14.1)**2)+((12-14.1)**2))\n",
    "ssb=5*(((15.2-14.1)**2)+((14-14.1)**2)+((16.8-14.1)**2)+((10.4-14.1)**2))\n",
    "sst=643.8 # 式子太长了...\n",
    "sse=sst-ssa-ssb\n",
    "print(\"ssa:%f\\nssb:%f\\nsst:%f\\nsse:%f\"%(ssa,ssb,sst,sse))"
   ]
  },
  {
   "cell_type": "code",
   "execution_count": 7,
   "id": "55a79006",
   "metadata": {},
   "outputs": [
    {
     "name": "stdout",
     "output_type": "stream",
     "text": [
      "msa:74.700000 msb:37.000000\n",
      "mse:19.500000\n",
      "fa:3.830769 fb:1.897436\n",
      "FA临界值:3.259167 FB临界值:3.490295\n"
     ]
    }
   ],
   "source": [
    "msa=ssa/(5-1)\n",
    "msb=ssb/(4-1)\n",
    "mse=sse/(20-5-4+1)\n",
    "fa=msa/mse\n",
    "fb=msb/mse\n",
    "FA=stats.f.ppf(0.95,dfn=4,dfd=12)\n",
    "FB=stats.f.ppf(0.95,dfn=3,dfd=12)\n",
    "print(\"msa:%f msb:%f\\nmse:%f\\nfa:%f fb:%f\\nFA临界值:%f FB临界值:%f\"%(msa,msb,mse,fa,fb,FA,FB))"
   ]
  },
  {
   "cell_type": "markdown",
   "id": "50a98aa5",
   "metadata": {},
   "source": [
    "单因素方差分析结果：\n",
    "\n",
    "| 误差来源 | 离差平方和SS | 自由度df | 均方MS    | 检验统计量F | P值      | F临界值  |\n",
    "| -------- | ------------ | -------- | --------- | ----------- | -------- | -------- |\n",
    "| 因素A     | 298.800000    | 4       | 74.700000 | 3.830769      | 0.031324 | 3.259167 |\n",
    "| 因素B     | 111.000000    | 3      | 37.000000  |     1.897436        |   0.183889       |   3.490295       |\n",
    "| 随机因素     | 234.000000   | 12       |   |             |          |          |\n",
    "| 合计     | 48.587800    | 19      |           |             |          |          |"
   ]
  },
  {
   "cell_type": "markdown",
   "id": "a7d6cd0c",
   "metadata": {},
   "source": [
    "## 统计决策"
   ]
  },
  {
   "cell_type": "markdown",
   "id": "89af241b",
   "metadata": {},
   "source": [
    "对于列因素A，F的检验统计值大于临界值，fa=3.830769>3.259167,所以因拒绝H0\n",
    "对于行因素B，F的检验统计值小于临界值，fb=1.897436<3.490295,所以因接受H0"
   ]
  },
  {
   "cell_type": "markdown",
   "id": "d0ecf10f",
   "metadata": {},
   "source": [
    "# 例题8.1"
   ]
  },
  {
   "cell_type": "code",
   "execution_count": 8,
   "id": "67d69bb9",
   "metadata": {},
   "outputs": [
    {
     "data": {
      "text/html": [
       "<div>\n",
       "<style scoped>\n",
       "    .dataframe tbody tr th:only-of-type {\n",
       "        vertical-align: middle;\n",
       "    }\n",
       "\n",
       "    .dataframe tbody tr th {\n",
       "        vertical-align: top;\n",
       "    }\n",
       "\n",
       "    .dataframe thead tr th {\n",
       "        text-align: left;\n",
       "    }\n",
       "</style>\n",
       "<table border=\"1\" class=\"dataframe\">\n",
       "  <thead>\n",
       "    <tr>\n",
       "      <th></th>\n",
       "      <th>商品种类</th>\n",
       "      <th>计量单位</th>\n",
       "      <th colspan=\"2\" halign=\"left\">销售量</th>\n",
       "      <th colspan=\"2\" halign=\"left\">价格</th>\n",
       "    </tr>\n",
       "    <tr>\n",
       "      <th></th>\n",
       "      <th>Unnamed: 0_level_1</th>\n",
       "      <th>Unnamed: 1_level_1</th>\n",
       "      <th>9月 q0</th>\n",
       "      <th>10月 q1</th>\n",
       "      <th>9月 p0</th>\n",
       "      <th>10月 p1</th>\n",
       "    </tr>\n",
       "  </thead>\n",
       "  <tbody>\n",
       "    <tr>\n",
       "      <th>0</th>\n",
       "      <td>甲</td>\n",
       "      <td>台</td>\n",
       "      <td>220.0</td>\n",
       "      <td>340.0</td>\n",
       "      <td>750.0</td>\n",
       "      <td>680.0</td>\n",
       "    </tr>\n",
       "    <tr>\n",
       "      <th>1</th>\n",
       "      <td>乙</td>\n",
       "      <td>袋</td>\n",
       "      <td>3400.0</td>\n",
       "      <td>4270.0</td>\n",
       "      <td>150.0</td>\n",
       "      <td>120.0</td>\n",
       "    </tr>\n",
       "    <tr>\n",
       "      <th>2</th>\n",
       "      <td>丙</td>\n",
       "      <td>件</td>\n",
       "      <td>141.0</td>\n",
       "      <td>199.0</td>\n",
       "      <td>328.0</td>\n",
       "      <td>286.0</td>\n",
       "    </tr>\n",
       "  </tbody>\n",
       "</table>\n",
       "</div>"
      ],
      "text/plain": [
       "                商品种类               计量单位     销售量             价格       \n",
       "  Unnamed: 0_level_1 Unnamed: 1_level_1   9月 q0  10月 q1  9月 p0 10月 p1\n",
       "0                  甲                  台   220.0   340.0  750.0  680.0\n",
       "1                  乙                  袋  3400.0  4270.0  150.0  120.0\n",
       "2                  丙                  件   141.0   199.0  328.0  286.0"
      ]
     },
     "execution_count": 8,
     "metadata": {},
     "output_type": "execute_result"
    }
   ],
   "source": [
    "data = pd.read_excel(r\"C:\\Users\\柠檬\\Desktop\\实验5\\指数-例8-1.xlsx\",header=[0,1])\n",
    "data=data.iloc[:3,:6]\n",
    "data"
   ]
  },
  {
   "cell_type": "markdown",
   "id": "e4c92684",
   "metadata": {},
   "source": [
    "## 拉式销售量综合指数"
   ]
  },
  {
   "cell_type": "code",
   "execution_count": 9,
   "id": "51f50a29",
   "metadata": {},
   "outputs": [
    {
     "data": {
      "text/plain": [
       "1.3320965881361195"
      ]
     },
     "execution_count": 9,
     "metadata": {},
     "output_type": "execute_result"
    }
   ],
   "source": [
    "Iq=0\n",
    "x=0\n",
    "y=0\n",
    "for i in range(3):\n",
    "    x+=data.values[i,4]*data.values[i,3]\n",
    "    y+=data.values[i,4]*data.values[i,2]\n",
    "Iq=x/y\n",
    "Iq"
   ]
  },
  {
   "cell_type": "markdown",
   "id": "bcee5039",
   "metadata": {},
   "source": [
    "与9月相比，10月3种商品销售量总体而言增加了33.21%"
   ]
  },
  {
   "cell_type": "markdown",
   "id": "bbca2151",
   "metadata": {},
   "source": [
    "## 帕氏价格综合指数"
   ]
  },
  {
   "cell_type": "code",
   "execution_count": 10,
   "id": "d33b1f2e",
   "metadata": {},
   "outputs": [
    {
     "data": {
      "text/plain": [
       "array([220.0, 3400.0, 141.0], dtype=object)"
      ]
     },
     "execution_count": 10,
     "metadata": {},
     "output_type": "execute_result"
    }
   ],
   "source": [
    "data.values[:,2]"
   ]
  },
  {
   "cell_type": "code",
   "execution_count": 11,
   "id": "0f6315dd",
   "metadata": {},
   "outputs": [
    {
     "data": {
      "text/plain": [
       "0.8331987193631788"
      ]
     },
     "execution_count": 11,
     "metadata": {},
     "output_type": "execute_result"
    }
   ],
   "source": [
    "Ip=0\n",
    "x=0\n",
    "y=0\n",
    "for i in range(3):\n",
    "    x+=data.values[i,5]*data.values[i,3]\n",
    "    y+=data.values[i,4]*data.values[i,3]\n",
    "Ip=x/y\n",
    "Ip"
   ]
  },
  {
   "cell_type": "markdown",
   "id": "f6c8bbda",
   "metadata": {},
   "source": [
    "与9月相比，10月3种商品价格总体而言下降了了16.68%"
   ]
  },
  {
   "cell_type": "markdown",
   "id": "d0b7b88f",
   "metadata": {},
   "source": [
    "# 例题8.2+8.3"
   ]
  },
  {
   "cell_type": "markdown",
   "id": "c22e5467",
   "metadata": {},
   "source": [
    "## 读取数据"
   ]
  },
  {
   "cell_type": "code",
   "execution_count": 12,
   "id": "329e7928",
   "metadata": {},
   "outputs": [
    {
     "data": {
      "text/html": [
       "<div>\n",
       "<style scoped>\n",
       "    .dataframe tbody tr th:only-of-type {\n",
       "        vertical-align: middle;\n",
       "    }\n",
       "\n",
       "    .dataframe tbody tr th {\n",
       "        vertical-align: top;\n",
       "    }\n",
       "\n",
       "    .dataframe thead th {\n",
       "        text-align: right;\n",
       "    }\n",
       "</style>\n",
       "<table border=\"1\" class=\"dataframe\">\n",
       "  <thead>\n",
       "    <tr style=\"text-align: right;\">\n",
       "      <th></th>\n",
       "      <th>商品种类</th>\n",
       "      <th>q0</th>\n",
       "      <th>q1</th>\n",
       "    </tr>\n",
       "  </thead>\n",
       "  <tbody>\n",
       "    <tr>\n",
       "      <th>1</th>\n",
       "      <td>甲</td>\n",
       "      <td>220</td>\n",
       "      <td>340</td>\n",
       "    </tr>\n",
       "    <tr>\n",
       "      <th>2</th>\n",
       "      <td>乙</td>\n",
       "      <td>3400</td>\n",
       "      <td>4270</td>\n",
       "    </tr>\n",
       "    <tr>\n",
       "      <th>3</th>\n",
       "      <td>丙</td>\n",
       "      <td>141</td>\n",
       "      <td>199</td>\n",
       "    </tr>\n",
       "  </tbody>\n",
       "</table>\n",
       "</div>"
      ],
      "text/plain": [
       "  商品种类    q0    q1\n",
       "1    甲   220   340\n",
       "2    乙  3400  4270\n",
       "3    丙   141   199"
      ]
     },
     "metadata": {},
     "output_type": "display_data"
    }
   ],
   "source": [
    "data1 = pd.read_excel(r\"C:\\Users\\柠檬\\Desktop\\实验5\\指数-例8-2.xlsx\")\n",
    "drop_row = list(range(4,9))\n",
    "drop_row.append(0)\n",
    "data1 = data1.drop(drop_row)\n",
    "drop_col = [\"Unnamed: {}\".format(_) for _ in range(4,10)]\n",
    "drop_col.append('计量单位')\n",
    "data1 = data1.drop(drop_col,axis=1)\n",
    "data1 = data1.iloc[:,[0,1,2]]\n",
    "data1.columns = ['商品种类','q0','q1']\n",
    "display(data1)"
   ]
  },
  {
   "cell_type": "code",
   "execution_count": 13,
   "id": "79ca7468",
   "metadata": {},
   "outputs": [
    {
     "data": {
      "text/html": [
       "<div>\n",
       "<style scoped>\n",
       "    .dataframe tbody tr th:only-of-type {\n",
       "        vertical-align: middle;\n",
       "    }\n",
       "\n",
       "    .dataframe tbody tr th {\n",
       "        vertical-align: top;\n",
       "    }\n",
       "\n",
       "    .dataframe thead th {\n",
       "        text-align: right;\n",
       "    }\n",
       "</style>\n",
       "<table border=\"1\" class=\"dataframe\">\n",
       "  <thead>\n",
       "    <tr style=\"text-align: right;\">\n",
       "      <th></th>\n",
       "      <th>商品种类</th>\n",
       "      <th>p0</th>\n",
       "      <th>p1</th>\n",
       "    </tr>\n",
       "  </thead>\n",
       "  <tbody>\n",
       "    <tr>\n",
       "      <th>1</th>\n",
       "      <td>甲</td>\n",
       "      <td>750</td>\n",
       "      <td>680</td>\n",
       "    </tr>\n",
       "    <tr>\n",
       "      <th>2</th>\n",
       "      <td>乙</td>\n",
       "      <td>150</td>\n",
       "      <td>120</td>\n",
       "    </tr>\n",
       "    <tr>\n",
       "      <th>3</th>\n",
       "      <td>丙</td>\n",
       "      <td>328</td>\n",
       "      <td>286</td>\n",
       "    </tr>\n",
       "  </tbody>\n",
       "</table>\n",
       "</div>"
      ],
      "text/plain": [
       "  商品种类   p0   p1\n",
       "1    甲  750  680\n",
       "2    乙  150  120\n",
       "3    丙  328  286"
      ]
     },
     "metadata": {},
     "output_type": "display_data"
    }
   ],
   "source": [
    "data2 = pd.read_excel(r\"C:\\Users\\柠檬\\Desktop\\实验5\\指数-例8-3.xlsx\")\n",
    "drop_row = list(range(4,10))\n",
    "drop_row.append(0)\n",
    "data2 = data2.drop(drop_row)\n",
    "drop_col = [\"Unnamed: {}\".format(_) for _ in range(4,10)]\n",
    "drop_col.append('计量单位')\n",
    "data2 = data2.drop(drop_col,axis=1)\n",
    "data2 = data2.iloc[:,[0,1,2]]\n",
    "data2.columns = ['商品种类','p0','p1']\n",
    "display(data2)"
   ]
  },
  {
   "cell_type": "markdown",
   "id": "3206eb80",
   "metadata": {},
   "source": [
    "## 计算计算机甲、乙、丙3种商品的销售量总指数"
   ]
  },
  {
   "cell_type": "code",
   "execution_count": 14,
   "id": "17694788",
   "metadata": {},
   "outputs": [
    {
     "name": "stdout",
     "output_type": "stream",
     "text": [
      "总指数：133.21%\n"
     ]
    }
   ],
   "source": [
    "Iq = sum([kq * p0 * q0 for kq,p0,q0 in zip(data1.iloc[:,2] / data1.iloc[:,1],data2.iloc[:,1],data1.iloc[:,1])])/sum([p0 * q0 for p0,q0 in zip(data2.iloc[:,1],data1.iloc[:,1])])\n",
    "print(\"总指数：%.2f\"%(Iq*100)+\"%\")"
   ]
  },
  {
   "cell_type": "markdown",
   "id": "37053ac5",
   "metadata": {},
   "source": [
    "## 计算机甲、乙、丙3种商品的价格总指数。"
   ]
  },
  {
   "cell_type": "code",
   "execution_count": 15,
   "id": "560aeeb3",
   "metadata": {},
   "outputs": [
    {
     "name": "stdout",
     "output_type": "stream",
     "text": [
      "总指数：83.32%\n"
     ]
    }
   ],
   "source": [
    "Ip = sum([p1 * q1 for p1,q1 in zip(data2.iloc[:,2],data1.iloc[:,2])])/sum([(1 / kp) * p1 * q1 for kp,p1,q1 in zip(data2.iloc[:,2] / data2.iloc[:,1],data2.iloc[:,2],data1.iloc[:,2])])\n",
    "print(\"总指数：%.2f\"%(Ip*100)+\"%\")"
   ]
  },
  {
   "cell_type": "markdown",
   "id": "d829d8a5",
   "metadata": {},
   "source": [
    "# Makeup2007"
   ]
  },
  {
   "cell_type": "code",
   "execution_count": 16,
   "id": "f72158a4",
   "metadata": {},
   "outputs": [
    {
     "data": {
      "text/html": [
       "<div>\n",
       "<style scoped>\n",
       "    .dataframe tbody tr th:only-of-type {\n",
       "        vertical-align: middle;\n",
       "    }\n",
       "\n",
       "    .dataframe tbody tr th {\n",
       "        vertical-align: top;\n",
       "    }\n",
       "\n",
       "    .dataframe thead th {\n",
       "        text-align: right;\n",
       "    }\n",
       "</style>\n",
       "<table border=\"1\" class=\"dataframe\">\n",
       "  <thead>\n",
       "    <tr style=\"text-align: right;\">\n",
       "      <th></th>\n",
       "      <th>Product</th>\n",
       "      <th>Units</th>\n",
       "      <th>Dollars</th>\n",
       "      <th>时间</th>\n",
       "    </tr>\n",
       "  </thead>\n",
       "  <tbody>\n",
       "    <tr>\n",
       "      <th>0</th>\n",
       "      <td>lip gloss</td>\n",
       "      <td>45</td>\n",
       "      <td>137.204558</td>\n",
       "      <td>front</td>\n",
       "    </tr>\n",
       "    <tr>\n",
       "      <th>1</th>\n",
       "      <td>foundation</td>\n",
       "      <td>50</td>\n",
       "      <td>152.007303</td>\n",
       "      <td>front</td>\n",
       "    </tr>\n",
       "    <tr>\n",
       "      <th>2</th>\n",
       "      <td>lipstick</td>\n",
       "      <td>9</td>\n",
       "      <td>28.719483</td>\n",
       "      <td>front</td>\n",
       "    </tr>\n",
       "    <tr>\n",
       "      <th>3</th>\n",
       "      <td>lip gloss</td>\n",
       "      <td>55</td>\n",
       "      <td>167.075323</td>\n",
       "      <td>after</td>\n",
       "    </tr>\n",
       "    <tr>\n",
       "      <th>4</th>\n",
       "      <td>lip gloss</td>\n",
       "      <td>43</td>\n",
       "      <td>130.602872</td>\n",
       "      <td>front</td>\n",
       "    </tr>\n",
       "    <tr>\n",
       "      <th>...</th>\n",
       "      <td>...</td>\n",
       "      <td>...</td>\n",
       "      <td>...</td>\n",
       "      <td>...</td>\n",
       "    </tr>\n",
       "    <tr>\n",
       "      <th>1699</th>\n",
       "      <td>foundation</td>\n",
       "      <td>36</td>\n",
       "      <td>109.842599</td>\n",
       "      <td>front</td>\n",
       "    </tr>\n",
       "    <tr>\n",
       "      <th>1700</th>\n",
       "      <td>lip gloss</td>\n",
       "      <td>46</td>\n",
       "      <td>140.408899</td>\n",
       "      <td>after</td>\n",
       "    </tr>\n",
       "    <tr>\n",
       "      <th>1701</th>\n",
       "      <td>lipstick</td>\n",
       "      <td>72</td>\n",
       "      <td>217.835886</td>\n",
       "      <td>front</td>\n",
       "    </tr>\n",
       "    <tr>\n",
       "      <th>1702</th>\n",
       "      <td>eye liner</td>\n",
       "      <td>28</td>\n",
       "      <td>85.656830</td>\n",
       "      <td>after</td>\n",
       "    </tr>\n",
       "    <tr>\n",
       "      <th>1703</th>\n",
       "      <td>eye liner</td>\n",
       "      <td>54</td>\n",
       "      <td>164.487334</td>\n",
       "      <td>after</td>\n",
       "    </tr>\n",
       "  </tbody>\n",
       "</table>\n",
       "<p>1704 rows × 4 columns</p>\n",
       "</div>"
      ],
      "text/plain": [
       "         Product  Units     Dollars     时间\n",
       "0      lip gloss     45  137.204558  front\n",
       "1     foundation     50  152.007303  front\n",
       "2       lipstick      9   28.719483  front\n",
       "3      lip gloss     55  167.075323  after\n",
       "4      lip gloss     43  130.602872  front\n",
       "...          ...    ...         ...    ...\n",
       "1699  foundation     36  109.842599  front\n",
       "1700   lip gloss     46  140.408899  after\n",
       "1701    lipstick     72  217.835886  front\n",
       "1702   eye liner     28   85.656830  after\n",
       "1703   eye liner     54  164.487334  after\n",
       "\n",
       "[1704 rows x 4 columns]"
      ]
     },
     "execution_count": 16,
     "metadata": {},
     "output_type": "execute_result"
    }
   ],
   "source": [
    "experiment = pd.read_excel(r\"C:\\Users\\柠檬\\Desktop\\实验5\\Makeup2007.xls\",skiprows=2)\n",
    "experiment = experiment.drop([\"Unnamed: {}\".format(_) for _ in (0,1)],axis=1)\n",
    "date = sorted(set(experiment['Date']))\n",
    "left = date[:len(date)//2]\n",
    "def date2mouth(x):\n",
    "    if x in left:\n",
    "        return \"front\"\n",
    "    else:\n",
    "        return \"after\"\n",
    "experiment['时间'] = experiment['Date'].apply(date2mouth)\n",
    "ex = experiment.drop(['Transaction number','Name','Date','Location'],axis=1)\n",
    "pt = pd.pivot_table(ex,values=['Units','Dollars'],index=['Product'],columns=['时间'],aggfunc='sum')\n",
    "ex"
   ]
  },
  {
   "cell_type": "markdown",
   "id": "497a9421",
   "metadata": {},
   "source": [
    "## 拉氏销售量综合指数"
   ]
  },
  {
   "cell_type": "code",
   "execution_count": 17,
   "id": "18a3cfbe",
   "metadata": {},
   "outputs": [
    {
     "name": "stdout",
     "output_type": "stream",
     "text": [
      "拉氏销售量综合指数：95.94%\n"
     ]
    }
   ],
   "source": [
    "Iq = sum([p0 * q1 for p0,q1 in zip(pt['Dollars']['front'],pt['Units']['after'])]) / sum([p0 * q0 for p0,q0 in zip(pt['Dollars']['front'],pt['Units']['front'])])\n",
    "print(\"拉氏销售量综合指数：{:.2f}%\".format(Iq*100))"
   ]
  },
  {
   "cell_type": "markdown",
   "id": "aa889c39",
   "metadata": {},
   "source": [
    "## 帕氏销售量综合指数"
   ]
  },
  {
   "cell_type": "code",
   "execution_count": 18,
   "id": "a1b03c8a",
   "metadata": {},
   "outputs": [
    {
     "name": "stdout",
     "output_type": "stream",
     "text": [
      "帕氏销售量综合指数：96.22%\n"
     ]
    }
   ],
   "source": [
    "Iq = sum([p1 * q1 for p1,q1 in zip(pt['Dollars']['after'],pt['Units']['after'])]) / sum([p1 * q0 for p1,q0 in zip(pt['Dollars']['after'],pt['Units']['front'])])\n",
    "print(\"帕氏销售量综合指数：{:.2f}%\".format(Iq*100))"
   ]
  },
  {
   "cell_type": "markdown",
   "id": "b4a8c5de",
   "metadata": {},
   "source": [
    "## 加权算数平均指数法"
   ]
  },
  {
   "cell_type": "code",
   "execution_count": 19,
   "id": "f21d7235",
   "metadata": {},
   "outputs": [
    {
     "name": "stdout",
     "output_type": "stream",
     "text": [
      "销售量总指数：95.94%\n"
     ]
    }
   ],
   "source": [
    "Iq = sum([kq * p0 * q0 for kq,p0,q0 in zip(pt['Units']['after'] / pt['Units']['front'],pt['Dollars']['front'],pt['Units']['front'])])\\\n",
    "    /sum([p0 * q0 for p0,q0 in zip(pt['Dollars']['front'],pt['Units']['front'])])\n",
    "print(\"销售量总指数：{:.2f}%\".format(Iq*100))"
   ]
  },
  {
   "cell_type": "markdown",
   "id": "c13014dc",
   "metadata": {},
   "source": [
    "## 以加权调和平均指数法"
   ]
  },
  {
   "cell_type": "code",
   "execution_count": 20,
   "id": "b7ba5aa5",
   "metadata": {},
   "outputs": [
    {
     "name": "stdout",
     "output_type": "stream",
     "text": [
      "价格总指数：96.17%\n"
     ]
    }
   ],
   "source": [
    "Ip = sum([p1 * q1 for p1,q1 in zip(pt['Dollars']['after'],pt['Units']['after'])])\\\n",
    "    /sum([(1 / kp) * p1 * q1 for kp,p1,q1 in zip(pt['Dollars']['after'] / pt['Dollars']['front'],pt['Dollars']['after'],pt['Units']['after'])])\n",
    "print(\"价格总指数：{:.2f}%\".format(Ip*100))"
   ]
  },
  {
   "cell_type": "code",
   "execution_count": null,
   "id": "444e04f5",
   "metadata": {},
   "outputs": [],
   "source": []
  }
 ],
 "metadata": {
  "kernelspec": {
   "display_name": "Python [conda env:py37] *",
   "language": "python",
   "name": "conda-env-py37-py"
  },
  "language_info": {
   "codemirror_mode": {
    "name": "ipython",
    "version": 3
   },
   "file_extension": ".py",
   "mimetype": "text/x-python",
   "name": "python",
   "nbconvert_exporter": "python",
   "pygments_lexer": "ipython3",
   "version": "3.7.10"
  }
 },
 "nbformat": 4,
 "nbformat_minor": 5
}
