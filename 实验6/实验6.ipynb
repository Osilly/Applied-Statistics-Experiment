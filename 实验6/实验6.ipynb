{
 "cells": [
  {
   "cell_type": "code",
   "execution_count": 1,
   "id": "ad1adcb8",
   "metadata": {},
   "outputs": [],
   "source": [
    "import pandas as pd\n",
    "from pandas import DataFrame,Series\n",
    "import numpy as np\n",
    "import matplotlib.pyplot as plt\n",
    "from scipy import stats as sta\n",
    "import math\n",
    "import random\n",
    "import statsmodels.stats.weightstats as sw\n",
    "from sklearn.linear_model import LinearRegression\n",
    "import statsmodels.api as sm"
   ]
  },
  {
   "cell_type": "code",
   "execution_count": 2,
   "id": "231c9265",
   "metadata": {},
   "outputs": [],
   "source": [
    "from pylab import mpl\n",
    "mpl.rcParams['font.sans-serif'] = ['Microsoft YaHei'] # 指定默认字体\n",
    "mpl.rcParams['axes.unicode_minus'] = False # 解决保存图像是负号'-'显示为方块的问题"
   ]
  },
  {
   "cell_type": "markdown",
   "id": "03bef672",
   "metadata": {},
   "source": [
    "# 177面"
   ]
  },
  {
   "cell_type": "markdown",
   "id": "6cad489e",
   "metadata": {},
   "source": [
    "## 读取数据"
   ]
  },
  {
   "cell_type": "code",
   "execution_count": 3,
   "id": "2f873e9d",
   "metadata": {},
   "outputs": [
    {
     "data": {
      "text/html": [
       "<div>\n",
       "<style scoped>\n",
       "    .dataframe tbody tr th:only-of-type {\n",
       "        vertical-align: middle;\n",
       "    }\n",
       "\n",
       "    .dataframe tbody tr th {\n",
       "        vertical-align: top;\n",
       "    }\n",
       "\n",
       "    .dataframe thead th {\n",
       "        text-align: right;\n",
       "    }\n",
       "</style>\n",
       "<table border=\"1\" class=\"dataframe\">\n",
       "  <thead>\n",
       "    <tr style=\"text-align: right;\">\n",
       "      <th></th>\n",
       "      <th>月份</th>\n",
       "      <th>电视广告费用</th>\n",
       "      <th>月销售收入</th>\n",
       "      <th>x·y</th>\n",
       "      <th>y²</th>\n",
       "      <th>x²</th>\n",
       "    </tr>\n",
       "  </thead>\n",
       "  <tbody>\n",
       "    <tr>\n",
       "      <th>0</th>\n",
       "      <td>1</td>\n",
       "      <td>35</td>\n",
       "      <td>650</td>\n",
       "      <td>22750</td>\n",
       "      <td>422500</td>\n",
       "      <td>1225</td>\n",
       "    </tr>\n",
       "    <tr>\n",
       "      <th>1</th>\n",
       "      <td>2</td>\n",
       "      <td>30</td>\n",
       "      <td>591</td>\n",
       "      <td>17730</td>\n",
       "      <td>349281</td>\n",
       "      <td>900</td>\n",
       "    </tr>\n",
       "    <tr>\n",
       "      <th>2</th>\n",
       "      <td>3</td>\n",
       "      <td>28</td>\n",
       "      <td>570</td>\n",
       "      <td>15960</td>\n",
       "      <td>324900</td>\n",
       "      <td>784</td>\n",
       "    </tr>\n",
       "    <tr>\n",
       "      <th>3</th>\n",
       "      <td>4</td>\n",
       "      <td>18</td>\n",
       "      <td>540</td>\n",
       "      <td>9720</td>\n",
       "      <td>291600</td>\n",
       "      <td>324</td>\n",
       "    </tr>\n",
       "    <tr>\n",
       "      <th>4</th>\n",
       "      <td>5</td>\n",
       "      <td>21</td>\n",
       "      <td>570</td>\n",
       "      <td>11970</td>\n",
       "      <td>324900</td>\n",
       "      <td>441</td>\n",
       "    </tr>\n",
       "    <tr>\n",
       "      <th>5</th>\n",
       "      <td>6</td>\n",
       "      <td>24</td>\n",
       "      <td>564</td>\n",
       "      <td>13536</td>\n",
       "      <td>318096</td>\n",
       "      <td>576</td>\n",
       "    </tr>\n",
       "    <tr>\n",
       "      <th>6</th>\n",
       "      <td>7</td>\n",
       "      <td>17</td>\n",
       "      <td>520</td>\n",
       "      <td>8840</td>\n",
       "      <td>270400</td>\n",
       "      <td>289</td>\n",
       "    </tr>\n",
       "    <tr>\n",
       "      <th>7</th>\n",
       "      <td>8</td>\n",
       "      <td>21</td>\n",
       "      <td>565</td>\n",
       "      <td>11865</td>\n",
       "      <td>319225</td>\n",
       "      <td>441</td>\n",
       "    </tr>\n",
       "    <tr>\n",
       "      <th>8</th>\n",
       "      <td>9</td>\n",
       "      <td>32</td>\n",
       "      <td>595</td>\n",
       "      <td>19040</td>\n",
       "      <td>354025</td>\n",
       "      <td>1024</td>\n",
       "    </tr>\n",
       "    <tr>\n",
       "      <th>9</th>\n",
       "      <td>10</td>\n",
       "      <td>30</td>\n",
       "      <td>610</td>\n",
       "      <td>18300</td>\n",
       "      <td>372100</td>\n",
       "      <td>900</td>\n",
       "    </tr>\n",
       "    <tr>\n",
       "      <th>10</th>\n",
       "      <td>11</td>\n",
       "      <td>25</td>\n",
       "      <td>560</td>\n",
       "      <td>14000</td>\n",
       "      <td>313600</td>\n",
       "      <td>625</td>\n",
       "    </tr>\n",
       "    <tr>\n",
       "      <th>11</th>\n",
       "      <td>12</td>\n",
       "      <td>25</td>\n",
       "      <td>570</td>\n",
       "      <td>14250</td>\n",
       "      <td>324900</td>\n",
       "      <td>625</td>\n",
       "    </tr>\n",
       "    <tr>\n",
       "      <th>12</th>\n",
       "      <td>合计</td>\n",
       "      <td>306</td>\n",
       "      <td>6905</td>\n",
       "      <td>177961</td>\n",
       "      <td>3985527</td>\n",
       "      <td>8154</td>\n",
       "    </tr>\n",
       "  </tbody>\n",
       "</table>\n",
       "</div>"
      ],
      "text/plain": [
       "    月份  电视广告费用  月销售收入     x·y       y²    x²\n",
       "0    1      35    650   22750   422500  1225\n",
       "1    2      30    591   17730   349281   900\n",
       "2    3      28    570   15960   324900   784\n",
       "3    4      18    540    9720   291600   324\n",
       "4    5      21    570   11970   324900   441\n",
       "5    6      24    564   13536   318096   576\n",
       "6    7      17    520    8840   270400   289\n",
       "7    8      21    565   11865   319225   441\n",
       "8    9      32    595   19040   354025  1024\n",
       "9   10      30    610   18300   372100   900\n",
       "10  11      25    560   14000   313600   625\n",
       "11  12      25    570   14250   324900   625\n",
       "12  合计     306   6905  177961  3985527  8154"
      ]
     },
     "execution_count": 3,
     "metadata": {},
     "output_type": "execute_result"
    }
   ],
   "source": [
    "data1 = pd.read_excel(r\"C:\\Users\\柠檬\\Desktop\\实验6\\第9章 相关与回归.xlsx\",sheet_name=0)\n",
    "columns = data1.columns\n",
    "columns = list(columns[:3])\n",
    "columns.append('x·y')\n",
    "columns.append('y²')\n",
    "columns.append('x²')\n",
    "data1.columns = columns\n",
    "data1"
   ]
  },
  {
   "cell_type": "markdown",
   "id": "04d591be",
   "metadata": {},
   "source": [
    "## 计算相关系数"
   ]
  },
  {
   "cell_type": "code",
   "execution_count": 4,
   "id": "87c1b173",
   "metadata": {},
   "outputs": [
    {
     "name": "stdout",
     "output_type": "stream",
     "text": [
      "相关系数：0.907408\n"
     ]
    }
   ],
   "source": [
    "n = data1.shape[0] - 1\n",
    "xy = n * data1.iloc[12,3] - data1.iloc[12,1] * data1.iloc[12,2]\n",
    "x = np.sqrt(n * data1.iloc[12,5] - data1.iloc[12,1] ** 2)\n",
    "y = np.sqrt(n * data1.iloc[12,4] - data1.iloc[12,2] ** 2)\n",
    "r = xy / (x * y)\n",
    "print(\"相关系数：%f\"%(r))"
   ]
  },
  {
   "cell_type": "markdown",
   "id": "a75252af",
   "metadata": {},
   "source": [
    "## 绘制散点图"
   ]
  },
  {
   "cell_type": "code",
   "execution_count": 5,
   "id": "692e344e",
   "metadata": {},
   "outputs": [
    {
     "data": {
      "image/png": "[encoded data removed]",
      "text/plain": [
       "<Figure size 432x288 with 1 Axes>"
      ]
     },
     "metadata": {
      "needs_background": "light"
     },
     "output_type": "display_data"
    }
   ],
   "source": [
    "data1[:-1].plot(kind='scatter',x='电视广告费用',y='月销售收入')\n",
    "plt.show()"
   ]
  },
  {
   "cell_type": "markdown",
   "id": "baf5a06f",
   "metadata": {},
   "source": [
    "# 185面"
   ]
  },
  {
   "cell_type": "markdown",
   "id": "4cd91da1",
   "metadata": {},
   "source": [
    "## 建立线性回归模型"
   ]
  },
  {
   "cell_type": "code",
   "execution_count": 6,
   "id": "65e3c4de",
   "metadata": {},
   "outputs": [
    {
     "data": {
      "text/html": [
       "<div>\n",
       "<style scoped>\n",
       "    .dataframe tbody tr th:only-of-type {\n",
       "        vertical-align: middle;\n",
       "    }\n",
       "\n",
       "    .dataframe tbody tr th {\n",
       "        vertical-align: top;\n",
       "    }\n",
       "\n",
       "    .dataframe thead th {\n",
       "        text-align: right;\n",
       "    }\n",
       "</style>\n",
       "<table border=\"1\" class=\"dataframe\">\n",
       "  <thead>\n",
       "    <tr style=\"text-align: right;\">\n",
       "      <th></th>\n",
       "      <th>回归统计</th>\n",
       "    </tr>\n",
       "  </thead>\n",
       "  <tbody>\n",
       "    <tr>\n",
       "      <th>Multiple R</th>\n",
       "      <td>0.907408</td>\n",
       "    </tr>\n",
       "    <tr>\n",
       "      <th>R Square</th>\n",
       "      <td>0.823390</td>\n",
       "    </tr>\n",
       "    <tr>\n",
       "      <th>Adjusted R Square</th>\n",
       "      <td>0.805729</td>\n",
       "    </tr>\n",
       "    <tr>\n",
       "      <th>标准误差</th>\n",
       "      <td>14.723699</td>\n",
       "    </tr>\n",
       "    <tr>\n",
       "      <th>观测值</th>\n",
       "      <td>12.000000</td>\n",
       "    </tr>\n",
       "  </tbody>\n",
       "</table>\n",
       "</div>"
      ],
      "text/plain": [
       "                        回归统计\n",
       "Multiple R          0.907408\n",
       "R Square            0.823390\n",
       "Adjusted R Square   0.805729\n",
       "标准误差               14.723699\n",
       "观测值                12.000000"
      ]
     },
     "execution_count": 6,
     "metadata": {},
     "output_type": "execute_result"
    }
   ],
   "source": [
    "model = LinearRegression()\n",
    "x = np.array(data1.iloc[:-1,1])\n",
    "t = x.reshape(x.shape[0],1)\n",
    "y = data1.iloc[:-1,2]\n",
    "n = len(y)\n",
    "model.fit(t,data1.iloc[:-1,2])\n",
    "r2 = model.score(t,y)\n",
    "y_ = model.predict(t)\n",
    "Se = np.sqrt(sum([(y[_] - y_[_]) ** 2 for _ in range(n)]) / (n-1-1))\n",
    "AdjustedR2 = 1 - (1-r2)*(n-1)/(n-1-1)\n",
    "df = pd.DataFrame(index=['Multiple R','R Square','Adjusted R Square',\n",
    "                         '标准误差','观测值'],data={'回归统计':[r,r2,AdjustedR2,Se,n]})\n",
    "df"
   ]
  },
  {
   "cell_type": "markdown",
   "id": "f8f627eb",
   "metadata": {},
   "source": [
    "## 方差分析"
   ]
  },
  {
   "cell_type": "code",
   "execution_count": 7,
   "id": "9a3781fa",
   "metadata": {},
   "outputs": [
    {
     "data": {
      "text/html": [
       "<div>\n",
       "<style scoped>\n",
       "    .dataframe tbody tr th:only-of-type {\n",
       "        vertical-align: middle;\n",
       "    }\n",
       "\n",
       "    .dataframe tbody tr th {\n",
       "        vertical-align: top;\n",
       "    }\n",
       "\n",
       "    .dataframe thead th {\n",
       "        text-align: right;\n",
       "    }\n",
       "</style>\n",
       "<table border=\"1\" class=\"dataframe\">\n",
       "  <thead>\n",
       "    <tr style=\"text-align: right;\">\n",
       "      <th></th>\n",
       "      <th>df</th>\n",
       "      <th>SS</th>\n",
       "      <th>MS</th>\n",
       "      <th>F</th>\n",
       "      <th>F检验</th>\n",
       "    </tr>\n",
       "    <tr>\n",
       "      <th>项目</th>\n",
       "      <th></th>\n",
       "      <th></th>\n",
       "      <th></th>\n",
       "      <th></th>\n",
       "      <th></th>\n",
       "    </tr>\n",
       "  </thead>\n",
       "  <tbody>\n",
       "    <tr>\n",
       "      <th>回归分析</th>\n",
       "      <td>1</td>\n",
       "      <td>10107.043447</td>\n",
       "      <td>10107.043447</td>\n",
       "      <td>46.62193</td>\n",
       "      <td>0.000046</td>\n",
       "    </tr>\n",
       "    <tr>\n",
       "      <th>残差</th>\n",
       "      <td>10</td>\n",
       "      <td>2167.873219</td>\n",
       "      <td>216.787322</td>\n",
       "      <td>NaN</td>\n",
       "      <td>NaN</td>\n",
       "    </tr>\n",
       "    <tr>\n",
       "      <th>总计</th>\n",
       "      <td>11</td>\n",
       "      <td>12274.916667</td>\n",
       "      <td>NaN</td>\n",
       "      <td>NaN</td>\n",
       "      <td>NaN</td>\n",
       "    </tr>\n",
       "  </tbody>\n",
       "</table>\n",
       "</div>"
      ],
      "text/plain": [
       "      df            SS            MS         F       F检验\n",
       "项目                                                      \n",
       "回归分析   1  10107.043447  10107.043447  46.62193  0.000046\n",
       "残差    10   2167.873219    216.787322       NaN       NaN\n",
       "总计    11  12274.916667           NaN       NaN       NaN"
      ]
     },
     "execution_count": 7,
     "metadata": {},
     "output_type": "execute_result"
    }
   ],
   "source": [
    "dfa = 1\n",
    "dfb = n - 2\n",
    "ssa = sum([(y_[_] - y.mean()) ** 2 for _ in range(n)])\n",
    "ssb = sum([(y[_] - y_[_]) ** 2 for _ in range(n)])\n",
    "msa = ssa / dfa\n",
    "msb = ssb / dfb\n",
    "f = msa / msb\n",
    "ppf = sta.f.ppf(0.95,dfa,dfb)#f临界值\n",
    "p = 1 - sta.f.cdf(f,dfa,dfb)#p值\n",
    "series = pd.Series(data='回归分析，残差，总计'.split('，'),name='项目')\n",
    "df = pd.DataFrame(index=series, data={ 'df':[1,10,11],'SS':[ssa,ssb,ssa+ssb], 'MS':[msa,msb,np.nan],'F':[f,np.nan,np.nan], 'F检验':[p,np.nan,np.nan]})\n",
    "df"
   ]
  },
  {
   "cell_type": "markdown",
   "id": "3ff33313",
   "metadata": {},
   "source": [
    "## 回归系数的显著性检验"
   ]
  },
  {
   "cell_type": "code",
   "execution_count": 8,
   "id": "b067ed6f",
   "metadata": {},
   "outputs": [
    {
     "data": {
      "text/html": [
       "<div>\n",
       "<style scoped>\n",
       "    .dataframe tbody tr th:only-of-type {\n",
       "        vertical-align: middle;\n",
       "    }\n",
       "\n",
       "    .dataframe tbody tr th {\n",
       "        vertical-align: top;\n",
       "    }\n",
       "\n",
       "    .dataframe thead th {\n",
       "        text-align: right;\n",
       "    }\n",
       "</style>\n",
       "<table border=\"1\" class=\"dataframe\">\n",
       "  <thead>\n",
       "    <tr style=\"text-align: right;\">\n",
       "      <th></th>\n",
       "      <th>coef</th>\n",
       "      <th>标准误差</th>\n",
       "      <th>t值</th>\n",
       "      <th>p值</th>\n",
       "      <th>下限 95%</th>\n",
       "      <th>上限 95%</th>\n",
       "    </tr>\n",
       "  </thead>\n",
       "  <tbody>\n",
       "    <tr>\n",
       "      <th>Intercept</th>\n",
       "      <td>438.581197</td>\n",
       "      <td>20.486045</td>\n",
       "      <td>21.408779</td>\n",
       "      <td>1.102082e-09</td>\n",
       "      <td>392.935445</td>\n",
       "      <td>484.226948</td>\n",
       "    </tr>\n",
       "    <tr>\n",
       "      <th>X Variable 1</th>\n",
       "      <td>5.366097</td>\n",
       "      <td>0.785893</td>\n",
       "      <td>6.828025</td>\n",
       "      <td>4.580176e-05</td>\n",
       "      <td>3.615018</td>\n",
       "      <td>7.117175</td>\n",
       "    </tr>\n",
       "  </tbody>\n",
       "</table>\n",
       "</div>"
      ],
      "text/plain": [
       "                    coef       标准误差         t值            p值      下限 95%  \\\n",
       "Intercept     438.581197  20.486045  21.408779  1.102082e-09  392.935445   \n",
       "X Variable 1    5.366097   0.785893   6.828025  4.580176e-05    3.615018   \n",
       "\n",
       "                  上限 95%  \n",
       "Intercept     484.226948  \n",
       "X Variable 1    7.117175  "
      ]
     },
     "execution_count": 8,
     "metadata": {},
     "output_type": "execute_result"
    }
   ],
   "source": [
    "x2 = sm.add_constant(t)\n",
    "est = sm.OLS(y,x2)\n",
    "est2 = est.fit()\n",
    "coef = est2.params\n",
    "std_err = est2.bse\n",
    "t = est2.tvalues\n",
    "p = est2.pvalues\n",
    "ud = est2.conf_int()\n",
    "df = pd.DataFrame(index = ['Intercept','X Variable 1'],data={'coef':[coef[0],coef[1]],'标准误差':[std_err[0],std_err[1]],'t值':[t[0],t[1]],'p值':[p[0],p[1]],'下限 95%':[ud[0][0],ud[0][1]],'上限 95%':[ud[1][0],ud[1][1]]})\n",
    "df"
   ]
  },
  {
   "cell_type": "markdown",
   "id": "0e7a0014",
   "metadata": {},
   "source": [
    "# Maospalace.EXCEL"
   ]
  },
  {
   "cell_type": "code",
   "execution_count": 9,
   "id": "6e97dba2",
   "metadata": {},
   "outputs": [
    {
     "data": {
      "text/html": [
       "<div>\n",
       "<style scoped>\n",
       "    .dataframe tbody tr th:only-of-type {\n",
       "        vertical-align: middle;\n",
       "    }\n",
       "\n",
       "    .dataframe tbody tr th {\n",
       "        vertical-align: top;\n",
       "    }\n",
       "\n",
       "    .dataframe thead th {\n",
       "        text-align: right;\n",
       "    }\n",
       "</style>\n",
       "<table border=\"1\" class=\"dataframe\">\n",
       "  <thead>\n",
       "    <tr style=\"text-align: right;\">\n",
       "      <th></th>\n",
       "      <th>Bowl Price</th>\n",
       "      <th>Bowls</th>\n",
       "      <th>Soda</th>\n",
       "      <th>Beer</th>\n",
       "    </tr>\n",
       "  </thead>\n",
       "  <tbody>\n",
       "    <tr>\n",
       "      <th>0</th>\n",
       "      <td>9.3</td>\n",
       "      <td>391</td>\n",
       "      <td>313</td>\n",
       "      <td>90</td>\n",
       "    </tr>\n",
       "    <tr>\n",
       "      <th>1</th>\n",
       "      <td>9.1</td>\n",
       "      <td>418</td>\n",
       "      <td>326</td>\n",
       "      <td>100</td>\n",
       "    </tr>\n",
       "    <tr>\n",
       "      <th>2</th>\n",
       "      <td>8.5</td>\n",
       "      <td>459</td>\n",
       "      <td>358</td>\n",
       "      <td>115</td>\n",
       "    </tr>\n",
       "    <tr>\n",
       "      <th>3</th>\n",
       "      <td>9.5</td>\n",
       "      <td>424</td>\n",
       "      <td>331</td>\n",
       "      <td>81</td>\n",
       "    </tr>\n",
       "    <tr>\n",
       "      <th>4</th>\n",
       "      <td>8.7</td>\n",
       "      <td>447</td>\n",
       "      <td>380</td>\n",
       "      <td>89</td>\n",
       "    </tr>\n",
       "    <tr>\n",
       "      <th>...</th>\n",
       "      <td>...</td>\n",
       "      <td>...</td>\n",
       "      <td>...</td>\n",
       "      <td>...</td>\n",
       "    </tr>\n",
       "    <tr>\n",
       "      <th>181</th>\n",
       "      <td>8.5</td>\n",
       "      <td>447</td>\n",
       "      <td>380</td>\n",
       "      <td>103</td>\n",
       "    </tr>\n",
       "    <tr>\n",
       "      <th>182</th>\n",
       "      <td>9.4</td>\n",
       "      <td>404</td>\n",
       "      <td>327</td>\n",
       "      <td>81</td>\n",
       "    </tr>\n",
       "    <tr>\n",
       "      <th>183</th>\n",
       "      <td>9.9</td>\n",
       "      <td>408</td>\n",
       "      <td>310</td>\n",
       "      <td>61</td>\n",
       "    </tr>\n",
       "    <tr>\n",
       "      <th>184</th>\n",
       "      <td>8.0</td>\n",
       "      <td>457</td>\n",
       "      <td>356</td>\n",
       "      <td>82</td>\n",
       "    </tr>\n",
       "    <tr>\n",
       "      <th>185</th>\n",
       "      <td>9.5</td>\n",
       "      <td>421</td>\n",
       "      <td>324</td>\n",
       "      <td>93</td>\n",
       "    </tr>\n",
       "  </tbody>\n",
       "</table>\n",
       "<p>186 rows × 4 columns</p>\n",
       "</div>"
      ],
      "text/plain": [
       "     Bowl Price  Bowls  Soda  Beer\n",
       "0           9.3    391   313    90\n",
       "1           9.1    418   326   100\n",
       "2           8.5    459   358   115\n",
       "3           9.5    424   331    81\n",
       "4           8.7    447   380    89\n",
       "..          ...    ...   ...   ...\n",
       "181         8.5    447   380   103\n",
       "182         9.4    404   327    81\n",
       "183         9.9    408   310    61\n",
       "184         8.0    457   356    82\n",
       "185         9.5    421   324    93\n",
       "\n",
       "[186 rows x 4 columns]"
      ]
     },
     "execution_count": 9,
     "metadata": {},
     "output_type": "execute_result"
    }
   ],
   "source": [
    "data2 = pd.read_excel(r\"C:\\Users\\柠檬\\Desktop\\实验6\\Maospalace.xlsx\")\n",
    "data2 = data2.drop(['Unnamed: 4','Unnamed: 5'],axis=1)\n",
    "data2"
   ]
  },
  {
   "cell_type": "code",
   "execution_count": 10,
   "id": "a0d97e42",
   "metadata": {},
   "outputs": [],
   "source": [
    "x = np.array(data2.iloc[:,0])\n",
    "x = x.reshape(x.shape[0],1)\n",
    "x2 = sm.add_constant(x)"
   ]
  },
  {
   "cell_type": "markdown",
   "id": "bc1ebfe2",
   "metadata": {},
   "source": [
    "## 每碗牛肉面的价格与卖出的牛肉面的碗数一元线性分析"
   ]
  },
  {
   "cell_type": "code",
   "execution_count": 11,
   "id": "ab28719d",
   "metadata": {},
   "outputs": [
    {
     "name": "stdout",
     "output_type": "stream",
     "text": [
      "                            OLS Regression Results                            \n",
      "==============================================================================\n",
      "Dep. Variable:                  Bowls   R-squared:                       0.507\n",
      "Model:                            OLS   Adj. R-squared:                  0.504\n",
      "Method:                 Least Squares   F-statistic:                     189.0\n",
      "Date:                Wed, 30 Jun 2021   Prob (F-statistic):           4.75e-30\n",
      "Time:                        18:07:24   Log-Likelihood:                -794.42\n",
      "No. Observations:                 186   AIC:                             1593.\n",
      "Df Residuals:                     184   BIC:                             1599.\n",
      "Df Model:                           1                                         \n",
      "Covariance Type:            nonrobust                                         \n",
      "==============================================================================\n",
      "                 coef    std err          t      P>|t|      [0.025      0.975]\n",
      "------------------------------------------------------------------------------\n",
      "const        695.8741     19.491     35.703      0.000     657.420     734.328\n",
      "x1           -29.5945      2.152    -13.749      0.000     -33.841     -25.348\n",
      "==============================================================================\n",
      "Omnibus:                       94.072   Durbin-Watson:                   2.044\n",
      "Prob(Omnibus):                  0.000   Jarque-Bera (JB):               11.702\n",
      "Skew:                           0.068   Prob(JB):                      0.00288\n",
      "Kurtosis:                       1.779   Cond. No.                         140.\n",
      "==============================================================================\n",
      "\n",
      "Notes:\n",
      "[1] Standard Errors assume that the covariance matrix of the errors is correctly specified.\n"
     ]
    }
   ],
   "source": [
    "y = data2.iloc[:,1]\n",
    "model = sm.OLS(y,x2)\n",
    "results = model.fit()\n",
    "print(results.summary())"
   ]
  },
  {
   "cell_type": "markdown",
   "id": "ba0c6470",
   "metadata": {},
   "source": [
    "R²=0.507，说明回归方程的拟合程度拟合程度较好"
   ]
  },
  {
   "cell_type": "markdown",
   "id": "92ccdf52",
   "metadata": {},
   "source": [
    "## 每碗牛肉面的价格与卖出的苏打水的瓶数的一元线性分析"
   ]
  },
  {
   "cell_type": "code",
   "execution_count": 12,
   "id": "4b145250",
   "metadata": {},
   "outputs": [
    {
     "name": "stdout",
     "output_type": "stream",
     "text": [
      "                            OLS Regression Results                            \n",
      "==============================================================================\n",
      "Dep. Variable:                   Soda   R-squared:                       0.338\n",
      "Model:                            OLS   Adj. R-squared:                  0.334\n",
      "Method:                 Least Squares   F-statistic:                     93.74\n",
      "Date:                Wed, 30 Jun 2021   Prob (F-statistic):           3.54e-18\n",
      "Time:                        18:07:24   Log-Likelihood:                -824.55\n",
      "No. Observations:                 186   AIC:                             1653.\n",
      "Df Residuals:                     184   BIC:                             1660.\n",
      "Df Model:                           1                                         \n",
      "Covariance Type:            nonrobust                                         \n",
      "==============================================================================\n",
      "                 coef    std err          t      P>|t|      [0.025      0.975]\n",
      "------------------------------------------------------------------------------\n",
      "const        562.3356     22.918     24.537      0.000     517.120     607.551\n",
      "x1           -24.5046      2.531     -9.682      0.000     -29.498     -19.511\n",
      "==============================================================================\n",
      "Omnibus:                        7.250   Durbin-Watson:                   1.917\n",
      "Prob(Omnibus):                  0.027   Jarque-Bera (JB):                4.092\n",
      "Skew:                           0.154   Prob(JB):                        0.129\n",
      "Kurtosis:                       2.342   Cond. No.                         140.\n",
      "==============================================================================\n",
      "\n",
      "Notes:\n",
      "[1] Standard Errors assume that the covariance matrix of the errors is correctly specified.\n"
     ]
    }
   ],
   "source": [
    "y = data2.iloc[:,2]\n",
    "model = sm.OLS(y,x2)\n",
    "results = model.fit()\n",
    "print(results.summary())"
   ]
  },
  {
   "cell_type": "markdown",
   "id": "de30d2f2",
   "metadata": {},
   "source": [
    "R²=0.338，说明回归方程的拟合程度拟合程度一般"
   ]
  },
  {
   "cell_type": "markdown",
   "id": "def8a61e",
   "metadata": {},
   "source": [
    "## 每碗牛肉面的价格与卖出的啤酒的瓶数的一元线性分析"
   ]
  },
  {
   "cell_type": "code",
   "execution_count": 13,
   "id": "dbc5bcab",
   "metadata": {},
   "outputs": [
    {
     "name": "stdout",
     "output_type": "stream",
     "text": [
      "                            OLS Regression Results                            \n",
      "==============================================================================\n",
      "Dep. Variable:                   Beer   R-squared:                       0.038\n",
      "Model:                            OLS   Adj. R-squared:                  0.032\n",
      "Method:                 Least Squares   F-statistic:                     7.170\n",
      "Date:                Wed, 30 Jun 2021   Prob (F-statistic):            0.00808\n",
      "Time:                        18:07:24   Log-Likelihood:                -756.55\n",
      "No. Observations:                 186   AIC:                             1517.\n",
      "Df Residuals:                     184   BIC:                             1524.\n",
      "Df Model:                           1                                         \n",
      "Covariance Type:            nonrobust                                         \n",
      "==============================================================================\n",
      "                 coef    std err          t      P>|t|      [0.025      0.975]\n",
      "------------------------------------------------------------------------------\n",
      "const        127.4591     15.901      8.016      0.000      96.088     158.830\n",
      "x1            -4.7021      1.756     -2.678      0.008      -8.167      -1.238\n",
      "==============================================================================\n",
      "Omnibus:                       32.362   Durbin-Watson:                   2.020\n",
      "Prob(Omnibus):                  0.000   Jarque-Bera (JB):                8.005\n",
      "Skew:                           0.066   Prob(JB):                       0.0183\n",
      "Kurtosis:                       1.992   Cond. No.                         140.\n",
      "==============================================================================\n",
      "\n",
      "Notes:\n",
      "[1] Standard Errors assume that the covariance matrix of the errors is correctly specified.\n"
     ]
    }
   ],
   "source": [
    "y = data2.iloc[:,3]\n",
    "model = sm.OLS(y,x2)\n",
    "results = model.fit()\n",
    "print(results.summary())"
   ]
  },
  {
   "cell_type": "markdown",
   "id": "6e75fac3",
   "metadata": {},
   "source": [
    "R²=0.038,说明每碗牛肉面的价格与卖出的啤酒的瓶数没有明显线性关系"
   ]
  },
  {
   "cell_type": "code",
   "execution_count": null,
   "id": "c255999f",
   "metadata": {},
   "outputs": [],
   "source": []
  }
 ],
 "metadata": {
  "kernelspec": {
   "display_name": "Python [conda env:py37] *",
   "language": "python",
   "name": "conda-env-py37-py"
  },
  "language_info": {
   "codemirror_mode": {
    "name": "ipython",
    "version": 3
   },
   "file_extension": ".py",
   "mimetype": "text/x-python",
   "name": "python",
   "nbconvert_exporter": "python",
   "pygments_lexer": "ipython3",
   "version": "3.7.10"
  }
 },
 "nbformat": 4,
 "nbformat_minor": 5
}
