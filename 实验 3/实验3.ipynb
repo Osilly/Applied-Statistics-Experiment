{
 "cells": [
  {
   "cell_type": "code",
   "execution_count": 1,
   "id": "4be6d709",
   "metadata": {},
   "outputs": [],
   "source": [
    "import pandas as pd\n",
    "from pandas import DataFrame,Series\n",
    "import numpy as np\n",
    "import matplotlib.pyplot as plt\n",
    "from scipy import stats\n",
    "import math\n",
    "import random"
   ]
  },
  {
   "cell_type": "code",
   "execution_count": 2,
   "id": "33bf1a30",
   "metadata": {},
   "outputs": [],
   "source": [
    "from pylab import mpl\n",
    "mpl.rcParams['font.sans-serif'] = ['Microsoft YaHei'] # 指定默认字体\n",
    "mpl.rcParams['axes.unicode_minus'] = False # 解决保存图像是负号'-'显示为方块的问题"
   ]
  },
  {
   "cell_type": "markdown",
   "id": "640fb378",
   "metadata": {},
   "source": [
    "# 第一题"
   ]
  },
  {
   "cell_type": "code",
   "execution_count": 3,
   "id": "e91336f8",
   "metadata": {
    "scrolled": false
   },
   "outputs": [
    {
     "data": {
      "text/html": [
       "<div>\n",
       "<style scoped>\n",
       "    .dataframe tbody tr th:only-of-type {\n",
       "        vertical-align: middle;\n",
       "    }\n",
       "\n",
       "    .dataframe tbody tr th {\n",
       "        vertical-align: top;\n",
       "    }\n",
       "\n",
       "    .dataframe thead th {\n",
       "        text-align: right;\n",
       "    }\n",
       "</style>\n",
       "<table border=\"1\" class=\"dataframe\">\n",
       "  <thead>\n",
       "    <tr style=\"text-align: right;\">\n",
       "      <th></th>\n",
       "      <th>学生编号</th>\n",
       "      <th>月消费支出额（元）</th>\n",
       "    </tr>\n",
       "  </thead>\n",
       "  <tbody>\n",
       "    <tr>\n",
       "      <th>0</th>\n",
       "      <td>1</td>\n",
       "      <td>410</td>\n",
       "    </tr>\n",
       "    <tr>\n",
       "      <th>1</th>\n",
       "      <td>2</td>\n",
       "      <td>350</td>\n",
       "    </tr>\n",
       "    <tr>\n",
       "      <th>2</th>\n",
       "      <td>3</td>\n",
       "      <td>466</td>\n",
       "    </tr>\n",
       "    <tr>\n",
       "      <th>3</th>\n",
       "      <td>4</td>\n",
       "      <td>385</td>\n",
       "    </tr>\n",
       "    <tr>\n",
       "      <th>4</th>\n",
       "      <td>5</td>\n",
       "      <td>500</td>\n",
       "    </tr>\n",
       "    <tr>\n",
       "      <th>...</th>\n",
       "      <td>...</td>\n",
       "      <td>...</td>\n",
       "    </tr>\n",
       "    <tr>\n",
       "      <th>105</th>\n",
       "      <td>106</td>\n",
       "      <td>811</td>\n",
       "    </tr>\n",
       "    <tr>\n",
       "      <th>106</th>\n",
       "      <td>107</td>\n",
       "      <td>1109</td>\n",
       "    </tr>\n",
       "    <tr>\n",
       "      <th>107</th>\n",
       "      <td>108</td>\n",
       "      <td>1276</td>\n",
       "    </tr>\n",
       "    <tr>\n",
       "      <th>108</th>\n",
       "      <td>109</td>\n",
       "      <td>745</td>\n",
       "    </tr>\n",
       "    <tr>\n",
       "      <th>109</th>\n",
       "      <td>110</td>\n",
       "      <td>678</td>\n",
       "    </tr>\n",
       "  </tbody>\n",
       "</table>\n",
       "<p>110 rows × 2 columns</p>\n",
       "</div>"
      ],
      "text/plain": [
       "     学生编号  月消费支出额（元）\n",
       "0       1        410\n",
       "1       2        350\n",
       "2       3        466\n",
       "3       4        385\n",
       "4       5        500\n",
       "..    ...        ...\n",
       "105   106        811\n",
       "106   107       1109\n",
       "107   108       1276\n",
       "108   109        745\n",
       "109   110        678\n",
       "\n",
       "[110 rows x 2 columns]"
      ]
     },
     "execution_count": 3,
     "metadata": {},
     "output_type": "execute_result"
    }
   ],
   "source": [
    "data = pd.read_excel(r\"C:\\Users\\柠檬\\Desktop\\实验 3\\第5章  抽样估计.xlsx\",sheet_name=1)\n",
    "data"
   ]
  },
  {
   "cell_type": "markdown",
   "id": "6be4e9de",
   "metadata": {},
   "source": [
    "## 1. 大样本条件下总体区间均值的区间估计"
   ]
  },
  {
   "cell_type": "markdown",
   "id": "1777b650",
   "metadata": {},
   "source": [
    "### 步骤1：计算样本均值和样本标准差"
   ]
  },
  {
   "cell_type": "code",
   "execution_count": 4,
   "id": "66d4a0fc",
   "metadata": {},
   "outputs": [
    {
     "name": "stdout",
     "output_type": "stream",
     "text": [
      "样本均值： 597.0181818181818\n"
     ]
    }
   ],
   "source": [
    "average = data['月消费支出额（元）'].mean()\n",
    "print(\"样本均值：\",average)"
   ]
  },
  {
   "cell_type": "code",
   "execution_count": 5,
   "id": "6a27cd79",
   "metadata": {},
   "outputs": [
    {
     "name": "stdout",
     "output_type": "stream",
     "text": [
      "样本标准差： 156.96291748229515\n"
     ]
    }
   ],
   "source": [
    "standard_deviation = np.std(data['月消费支出额（元）'], ddof=1)\n",
    "print(\"样本标准差：\",standard_deviation)"
   ]
  },
  {
   "cell_type": "markdown",
   "id": "ec4e9eef",
   "metadata": {},
   "source": [
    "### 步骤2：计算边际误差或允许误差"
   ]
  },
  {
   "cell_type": "markdown",
   "id": "fa47bc7d",
   "metadata": {},
   "source": [
    "#### 求抽样标准差"
   ]
  },
  {
   "cell_type": "code",
   "execution_count": 6,
   "id": "619d3e66",
   "metadata": {},
   "outputs": [
    {
     "data": {
      "text/plain": [
       "14.965826971821139"
      ]
     },
     "execution_count": 6,
     "metadata": {},
     "output_type": "execute_result"
    }
   ],
   "source": [
    "sampling_standard_deviation = standard_deviation / math.sqrt(110)\n",
    "sampling_standard_deviation"
   ]
  },
  {
   "cell_type": "markdown",
   "id": "bc192207",
   "metadata": {},
   "source": [
    "#### 求正态分布位数"
   ]
  },
  {
   "cell_type": "code",
   "execution_count": 7,
   "id": "a5392238",
   "metadata": {},
   "outputs": [
    {
     "data": {
      "text/plain": [
       "-1.9599639845400545"
      ]
     },
     "execution_count": 7,
     "metadata": {},
     "output_type": "execute_result"
    }
   ],
   "source": [
    "z = stats.norm.ppf(0.025,loc=0,scale=1)\n",
    "z"
   ]
  },
  {
   "cell_type": "markdown",
   "id": "b4d1f291",
   "metadata": {},
   "source": [
    "#### 计算边际误差"
   ]
  },
  {
   "cell_type": "code",
   "execution_count": 8,
   "id": "149448c4",
   "metadata": {},
   "outputs": [
    {
     "data": {
      "text/plain": [
       "29.332481863627578"
      ]
     },
     "execution_count": 8,
     "metadata": {},
     "output_type": "execute_result"
    }
   ],
   "source": [
    "E = math.fabs(z * sampling_standard_deviation)\n",
    "E"
   ]
  },
  {
   "cell_type": "markdown",
   "id": "8fd74468",
   "metadata": {},
   "source": [
    "### 步骤3：确定总体均值置信区间"
   ]
  },
  {
   "cell_type": "code",
   "execution_count": 9,
   "id": "dde3c233",
   "metadata": {},
   "outputs": [
    {
     "name": "stdout",
     "output_type": "stream",
     "text": [
      "置信区间为：（567.69,626.35）\n"
     ]
    }
   ],
   "source": [
    "l = average - E\n",
    "r = average + E\n",
    "print(\"置信区间为：（%.2lf,%.2lf）\"%(l,r))"
   ]
  },
  {
   "cell_type": "markdown",
   "id": "9561586e",
   "metadata": {},
   "source": [
    "### 结论"
   ]
  },
  {
   "cell_type": "markdown",
   "id": "1860837e",
   "metadata": {},
   "source": [
    "在置信水平为95%的条件下，110名学生的月销售额估计的该校学生的月销售额的置信区间为567.69-626.35"
   ]
  },
  {
   "cell_type": "markdown",
   "id": "03930236",
   "metadata": {},
   "source": [
    "## 2. 小样本条件下总体区间均值的区间估计"
   ]
  },
  {
   "cell_type": "code",
   "execution_count": 10,
   "id": "9d1a878e",
   "metadata": {},
   "outputs": [
    {
     "data": {
      "text/html": [
       "<div>\n",
       "<style scoped>\n",
       "    .dataframe tbody tr th:only-of-type {\n",
       "        vertical-align: middle;\n",
       "    }\n",
       "\n",
       "    .dataframe tbody tr th {\n",
       "        vertical-align: top;\n",
       "    }\n",
       "\n",
       "    .dataframe thead th {\n",
       "        text-align: right;\n",
       "    }\n",
       "</style>\n",
       "<table border=\"1\" class=\"dataframe\">\n",
       "  <thead>\n",
       "    <tr style=\"text-align: right;\">\n",
       "      <th></th>\n",
       "      <th>学生编号</th>\n",
       "      <th>月消费支出额（元）</th>\n",
       "    </tr>\n",
       "  </thead>\n",
       "  <tbody>\n",
       "    <tr>\n",
       "      <th>6</th>\n",
       "      <td>7</td>\n",
       "      <td>401</td>\n",
       "    </tr>\n",
       "    <tr>\n",
       "      <th>2</th>\n",
       "      <td>3</td>\n",
       "      <td>466</td>\n",
       "    </tr>\n",
       "    <tr>\n",
       "      <th>107</th>\n",
       "      <td>108</td>\n",
       "      <td>1276</td>\n",
       "    </tr>\n",
       "    <tr>\n",
       "      <th>82</th>\n",
       "      <td>83</td>\n",
       "      <td>538</td>\n",
       "    </tr>\n",
       "    <tr>\n",
       "      <th>103</th>\n",
       "      <td>104</td>\n",
       "      <td>663</td>\n",
       "    </tr>\n",
       "    <tr>\n",
       "      <th>12</th>\n",
       "      <td>13</td>\n",
       "      <td>510</td>\n",
       "    </tr>\n",
       "    <tr>\n",
       "      <th>58</th>\n",
       "      <td>59</td>\n",
       "      <td>536</td>\n",
       "    </tr>\n",
       "    <tr>\n",
       "      <th>54</th>\n",
       "      <td>55</td>\n",
       "      <td>446</td>\n",
       "    </tr>\n",
       "    <tr>\n",
       "      <th>48</th>\n",
       "      <td>49</td>\n",
       "      <td>650</td>\n",
       "    </tr>\n",
       "    <tr>\n",
       "      <th>7</th>\n",
       "      <td>8</td>\n",
       "      <td>493</td>\n",
       "    </tr>\n",
       "    <tr>\n",
       "      <th>0</th>\n",
       "      <td>1</td>\n",
       "      <td>410</td>\n",
       "    </tr>\n",
       "    <tr>\n",
       "      <th>97</th>\n",
       "      <td>98</td>\n",
       "      <td>910</td>\n",
       "    </tr>\n",
       "    <tr>\n",
       "      <th>61</th>\n",
       "      <td>62</td>\n",
       "      <td>568</td>\n",
       "    </tr>\n",
       "    <tr>\n",
       "      <th>85</th>\n",
       "      <td>86</td>\n",
       "      <td>575</td>\n",
       "    </tr>\n",
       "    <tr>\n",
       "      <th>34</th>\n",
       "      <td>35</td>\n",
       "      <td>431</td>\n",
       "    </tr>\n",
       "    <tr>\n",
       "      <th>14</th>\n",
       "      <td>15</td>\n",
       "      <td>347</td>\n",
       "    </tr>\n",
       "    <tr>\n",
       "      <th>94</th>\n",
       "      <td>95</td>\n",
       "      <td>836</td>\n",
       "    </tr>\n",
       "    <tr>\n",
       "      <th>72</th>\n",
       "      <td>73</td>\n",
       "      <td>622</td>\n",
       "    </tr>\n",
       "    <tr>\n",
       "      <th>68</th>\n",
       "      <td>69</td>\n",
       "      <td>685</td>\n",
       "    </tr>\n",
       "    <tr>\n",
       "      <th>19</th>\n",
       "      <td>20</td>\n",
       "      <td>556</td>\n",
       "    </tr>\n",
       "  </tbody>\n",
       "</table>\n",
       "</div>"
      ],
      "text/plain": [
       "     学生编号  月消费支出额（元）\n",
       "6       7        401\n",
       "2       3        466\n",
       "107   108       1276\n",
       "82     83        538\n",
       "103   104        663\n",
       "12     13        510\n",
       "58     59        536\n",
       "54     55        446\n",
       "48     49        650\n",
       "7       8        493\n",
       "0       1        410\n",
       "97     98        910\n",
       "61     62        568\n",
       "85     86        575\n",
       "34     35        431\n",
       "14     15        347\n",
       "94     95        836\n",
       "72     73        622\n",
       "68     69        685\n",
       "19     20        556"
      ]
     },
     "execution_count": 10,
     "metadata": {},
     "output_type": "execute_result"
    }
   ],
   "source": [
    "sample = data.iloc[random.sample(range(110),20)]\n",
    "sample"
   ]
  },
  {
   "cell_type": "markdown",
   "id": "c65f9b89",
   "metadata": {},
   "source": [
    "### 步骤1：计算样本均值和样本标准差"
   ]
  },
  {
   "cell_type": "code",
   "execution_count": 11,
   "id": "682da6e0",
   "metadata": {},
   "outputs": [
    {
     "name": "stdout",
     "output_type": "stream",
     "text": [
      "样本均值： 595.95\n"
     ]
    }
   ],
   "source": [
    "average_sample = sample['月消费支出额（元）'].mean()\n",
    "print(\"样本均值：\",average_sample)"
   ]
  },
  {
   "cell_type": "code",
   "execution_count": 12,
   "id": "1bc38df1",
   "metadata": {},
   "outputs": [
    {
     "name": "stdout",
     "output_type": "stream",
     "text": [
      "样本标准差： 213.20103559539143\n"
     ]
    }
   ],
   "source": [
    "standard_deviation_sample = np.std(sample['月消费支出额（元）'], ddof=1)\n",
    "print(\"样本标准差：\",standard_deviation_sample)"
   ]
  },
  {
   "cell_type": "markdown",
   "id": "28665045",
   "metadata": {},
   "source": [
    "### 步骤2：计算边际误差或允许误差"
   ]
  },
  {
   "cell_type": "markdown",
   "id": "80b4e98d",
   "metadata": {},
   "source": [
    "#### 求抽样标准差"
   ]
  },
  {
   "cell_type": "code",
   "execution_count": 13,
   "id": "0ee64a19",
   "metadata": {},
   "outputs": [
    {
     "data": {
      "text/plain": [
       "47.67320084646476"
      ]
     },
     "execution_count": 13,
     "metadata": {},
     "output_type": "execute_result"
    }
   ],
   "source": [
    "sampling_standard_deviation_sample = standard_deviation_sample / math.sqrt(20)\n",
    "sampling_standard_deviation_sample"
   ]
  },
  {
   "cell_type": "markdown",
   "id": "f243a916",
   "metadata": {},
   "source": [
    "#### 求服从自由度为n-1的t分布位数"
   ]
  },
  {
   "cell_type": "code",
   "execution_count": 14,
   "id": "4a86b12f",
   "metadata": {},
   "outputs": [
    {
     "data": {
      "text/plain": [
       "2.093024054408263"
      ]
     },
     "execution_count": 14,
     "metadata": {},
     "output_type": "execute_result"
    }
   ],
   "source": [
    "z_t = stats.t.ppf(1-0.025,19)\n",
    "z_t"
   ]
  },
  {
   "cell_type": "markdown",
   "id": "bfcddf88",
   "metadata": {},
   "source": [
    "#### 计算边际误差"
   ]
  },
  {
   "cell_type": "code",
   "execution_count": 15,
   "id": "e01db02f",
   "metadata": {},
   "outputs": [
    {
     "data": {
      "text/plain": [
       "99.7811561222871"
      ]
     },
     "execution_count": 15,
     "metadata": {},
     "output_type": "execute_result"
    }
   ],
   "source": [
    "E_sample = math.fabs(z_t * sampling_standard_deviation_sample)\n",
    "E_sample"
   ]
  },
  {
   "cell_type": "markdown",
   "id": "52b4cd4d",
   "metadata": {},
   "source": [
    "### 步骤3：确定总体均值置信区间"
   ]
  },
  {
   "cell_type": "code",
   "execution_count": 16,
   "id": "fa85fe88",
   "metadata": {},
   "outputs": [
    {
     "name": "stdout",
     "output_type": "stream",
     "text": [
      "置信区间为：（496.17,695.73）\n"
     ]
    }
   ],
   "source": [
    "l_sample = average_sample - E_sample\n",
    "r_sample = average_sample + E_sample\n",
    "print(\"置信区间为：（%.2lf,%.2lf）\"%(l_sample,r_sample))"
   ]
  },
  {
   "cell_type": "markdown",
   "id": "fc870384",
   "metadata": {},
   "source": [
    "### 结论"
   ]
  },
  {
   "cell_type": "markdown",
   "id": "bb29b2e7",
   "metadata": {},
   "source": [
    "在置信水平为95%的条件下，20名学生的月销售额估计的该校学生的月销售额的置信区间为507.75-658.55"
   ]
  },
  {
   "cell_type": "markdown",
   "id": "342e2077",
   "metadata": {},
   "source": [
    "# 第二题"
   ]
  },
  {
   "cell_type": "code",
   "execution_count": 17,
   "id": "e61f1409",
   "metadata": {},
   "outputs": [
    {
     "data": {
      "text/html": [
       "<div>\n",
       "<style scoped>\n",
       "    .dataframe tbody tr th:only-of-type {\n",
       "        vertical-align: middle;\n",
       "    }\n",
       "\n",
       "    .dataframe tbody tr th {\n",
       "        vertical-align: top;\n",
       "    }\n",
       "\n",
       "    .dataframe thead th {\n",
       "        text-align: right;\n",
       "    }\n",
       "</style>\n",
       "<table border=\"1\" class=\"dataframe\">\n",
       "  <thead>\n",
       "    <tr style=\"text-align: right;\">\n",
       "      <th></th>\n",
       "      <th>商品名称</th>\n",
       "      <th>产品毛重</th>\n",
       "      <th>商品产地</th>\n",
       "      <th>包装</th>\n",
       "      <th>香调</th>\n",
       "      <th>净含量</th>\n",
       "      <th>分类</th>\n",
       "      <th>性别</th>\n",
       "      <th>适用场所</th>\n",
       "      <th>价格</th>\n",
       "      <th>评价</th>\n",
       "    </tr>\n",
       "  </thead>\n",
       "  <tbody>\n",
       "    <tr>\n",
       "      <th>0</th>\n",
       "      <td>冰希黎6956008601463</td>\n",
       "      <td>10.00g</td>\n",
       "      <td>中国大陆上海</td>\n",
       "      <td>Q版香水</td>\n",
       "      <td>花果香调</td>\n",
       "      <td>1ml-15ml</td>\n",
       "      <td>浓香水EDP</td>\n",
       "      <td>女</td>\n",
       "      <td>日常，约会，情趣，商务，party聚会，旅行</td>\n",
       "      <td>9.9</td>\n",
       "      <td>1.9万+</td>\n",
       "    </tr>\n",
       "    <tr>\n",
       "      <th>1</th>\n",
       "      <td>冰希黎6956008601432</td>\n",
       "      <td>200.00g</td>\n",
       "      <td>中国大陆上海</td>\n",
       "      <td>Q版香水</td>\n",
       "      <td>混合香调</td>\n",
       "      <td>1ml-15ml</td>\n",
       "      <td>浓香水EDP</td>\n",
       "      <td>女</td>\n",
       "      <td>日常，约会，party聚会，运动，旅行</td>\n",
       "      <td>9.9</td>\n",
       "      <td>1.9万+</td>\n",
       "    </tr>\n",
       "    <tr>\n",
       "      <th>2</th>\n",
       "      <td>（免邮）上海老国货艾琳法国茉莉女士香水75ml EDP 持久淡香清新花香调</td>\n",
       "      <td>160.00g</td>\n",
       "      <td>NaN</td>\n",
       "      <td>独立装</td>\n",
       "      <td>花果香调</td>\n",
       "      <td>31ml-100ml</td>\n",
       "      <td>浓香水EDP</td>\n",
       "      <td>女</td>\n",
       "      <td>日常，约会，商务，party聚会，旅行</td>\n",
       "      <td>18.0</td>\n",
       "      <td>90+</td>\n",
       "    </tr>\n",
       "    <tr>\n",
       "      <th>3</th>\n",
       "      <td>法颂浪漫梦境女士香膏15g 持久淡香清新固体精油香水香体膏 女士持久淡香礼盒</td>\n",
       "      <td>15.00g</td>\n",
       "      <td>NaN</td>\n",
       "      <td>Q版香水</td>\n",
       "      <td>花果香调</td>\n",
       "      <td>1ml-15ml</td>\n",
       "      <td>固体香水/香膏</td>\n",
       "      <td>女</td>\n",
       "      <td>日常，约会，商务，party聚会，运动，旅行</td>\n",
       "      <td>22.0</td>\n",
       "      <td>30+</td>\n",
       "    </tr>\n",
       "    <tr>\n",
       "      <th>4</th>\n",
       "      <td>雅芳香水</td>\n",
       "      <td>30.00g</td>\n",
       "      <td>中国大陆</td>\n",
       "      <td>独立装</td>\n",
       "      <td>东方香调</td>\n",
       "      <td>1ml-15ml</td>\n",
       "      <td>淡香水EDT</td>\n",
       "      <td>女</td>\n",
       "      <td>日常，约会，商务，party聚会，运动，旅行</td>\n",
       "      <td>23.9</td>\n",
       "      <td>3.9万+</td>\n",
       "    </tr>\n",
       "    <tr>\n",
       "      <th>...</th>\n",
       "      <td>...</td>\n",
       "      <td>...</td>\n",
       "      <td>...</td>\n",
       "      <td>...</td>\n",
       "      <td>...</td>\n",
       "      <td>...</td>\n",
       "      <td>...</td>\n",
       "      <td>...</td>\n",
       "      <td>...</td>\n",
       "      <td>...</td>\n",
       "      <td>...</td>\n",
       "    </tr>\n",
       "    <tr>\n",
       "      <th>1004</th>\n",
       "      <td>香奈儿香水</td>\n",
       "      <td>300.00g</td>\n",
       "      <td>法国</td>\n",
       "      <td>独立装</td>\n",
       "      <td>花果香调</td>\n",
       "      <td>31ml-100ml</td>\n",
       "      <td>浓香水EDP</td>\n",
       "      <td>女</td>\n",
       "      <td>日常，约会，商务，party聚会，旅行</td>\n",
       "      <td>1420.0</td>\n",
       "      <td>5000+</td>\n",
       "    </tr>\n",
       "    <tr>\n",
       "      <th>1005</th>\n",
       "      <td>香奈儿机会/机遇/黄色邂逅女士香水50/100ML/持久淡香精EDP EDP50ml</td>\n",
       "      <td>20.00g</td>\n",
       "      <td>NaN</td>\n",
       "      <td>独立装</td>\n",
       "      <td>花果香调</td>\n",
       "      <td>31ml-100ml</td>\n",
       "      <td>浓香水EDP</td>\n",
       "      <td>女</td>\n",
       "      <td>约会</td>\n",
       "      <td>1850.0</td>\n",
       "      <td>3</td>\n",
       "    </tr>\n",
       "    <tr>\n",
       "      <th>1006</th>\n",
       "      <td>Chanel香奈儿 COCO可可小姐 淡香水EDT 白色 EDP 100ml</td>\n",
       "      <td>200.00g</td>\n",
       "      <td>NaN</td>\n",
       "      <td>礼品套装</td>\n",
       "      <td>花果香调</td>\n",
       "      <td>31ml-100ml</td>\n",
       "      <td>淡香水EDT</td>\n",
       "      <td>女</td>\n",
       "      <td>日常，约会</td>\n",
       "      <td>1996.0</td>\n",
       "      <td>0</td>\n",
       "    </tr>\n",
       "    <tr>\n",
       "      <th>1007</th>\n",
       "      <td>Dior克丽丝汀迪奥女士香水套装 魅惑+花漾+真我各50ml三件套</td>\n",
       "      <td>200.00g</td>\n",
       "      <td>NaN</td>\n",
       "      <td>独立装</td>\n",
       "      <td>东方香调</td>\n",
       "      <td>31ml-100ml</td>\n",
       "      <td>淡香水EDT</td>\n",
       "      <td>女</td>\n",
       "      <td>日常，约会，商务，party聚会，运动，旅行</td>\n",
       "      <td>2200.0</td>\n",
       "      <td>10+</td>\n",
       "    </tr>\n",
       "    <tr>\n",
       "      <th>1008</th>\n",
       "      <td>香奈儿机会/机遇/黄色邂逅女士香水50/100ML/持久淡香精EDP EDP100ml</td>\n",
       "      <td>20.00g</td>\n",
       "      <td>NaN</td>\n",
       "      <td>独立装</td>\n",
       "      <td>花果香调</td>\n",
       "      <td>31ml-100ml</td>\n",
       "      <td>浓香水EDP</td>\n",
       "      <td>女</td>\n",
       "      <td>约会</td>\n",
       "      <td>2212.0</td>\n",
       "      <td>3</td>\n",
       "    </tr>\n",
       "  </tbody>\n",
       "</table>\n",
       "<p>1009 rows × 11 columns</p>\n",
       "</div>"
      ],
      "text/plain": [
       "                                             商品名称     产品毛重    商品产地    包装  \\\n",
       "0                                冰希黎6956008601463   10.00g  中国大陆上海  Q版香水   \n",
       "1                                冰希黎6956008601432  200.00g  中国大陆上海  Q版香水   \n",
       "2          （免邮）上海老国货艾琳法国茉莉女士香水75ml EDP 持久淡香清新花香调   160.00g     NaN   独立装   \n",
       "3          法颂浪漫梦境女士香膏15g 持久淡香清新固体精油香水香体膏 女士持久淡香礼盒   15.00g     NaN  Q版香水   \n",
       "4                                            雅芳香水   30.00g    中国大陆   独立装   \n",
       "...                                           ...      ...     ...   ...   \n",
       "1004                                        香奈儿香水  300.00g      法国   独立装   \n",
       "1005   香奈儿机会/机遇/黄色邂逅女士香水50/100ML/持久淡香精EDP EDP50ml   20.00g     NaN   独立装   \n",
       "1006       Chanel香奈儿 COCO可可小姐 淡香水EDT 白色 EDP 100ml  200.00g     NaN  礼品套装   \n",
       "1007            Dior克丽丝汀迪奥女士香水套装 魅惑+花漾+真我各50ml三件套  200.00g     NaN   独立装   \n",
       "1008  香奈儿机会/机遇/黄色邂逅女士香水50/100ML/持久淡香精EDP EDP100ml   20.00g     NaN   独立装   \n",
       "\n",
       "        香调         净含量       分类 性别                    适用场所      价格     评价  \n",
       "0     花果香调    1ml-15ml   浓香水EDP  女  日常，约会，情趣，商务，party聚会，旅行     9.9  1.9万+  \n",
       "1     混合香调    1ml-15ml   浓香水EDP  女     日常，约会，party聚会，运动，旅行     9.9  1.9万+  \n",
       "2     花果香调  31ml-100ml   浓香水EDP  女     日常，约会，商务，party聚会，旅行    18.0    90+  \n",
       "3     花果香调    1ml-15ml  固体香水/香膏  女  日常，约会，商务，party聚会，运动，旅行    22.0    30+  \n",
       "4     东方香调    1ml-15ml   淡香水EDT  女  日常，约会，商务，party聚会，运动，旅行    23.9  3.9万+  \n",
       "...    ...         ...      ... ..                     ...     ...    ...  \n",
       "1004  花果香调  31ml-100ml   浓香水EDP  女     日常，约会，商务，party聚会，旅行  1420.0  5000+  \n",
       "1005  花果香调  31ml-100ml   浓香水EDP  女                      约会  1850.0      3  \n",
       "1006  花果香调  31ml-100ml   淡香水EDT  女                   日常，约会  1996.0      0  \n",
       "1007  东方香调  31ml-100ml   淡香水EDT  女  日常，约会，商务，party聚会，运动，旅行  2200.0    10+  \n",
       "1008  花果香调  31ml-100ml   浓香水EDP  女                      约会  2212.0      3  \n",
       "\n",
       "[1009 rows x 11 columns]"
      ]
     },
     "execution_count": 17,
     "metadata": {},
     "output_type": "execute_result"
    }
   ],
   "source": [
    "df = pd.read_excel(r\"C:\\Users\\柠檬\\Desktop\\实验 3\\香水.xlsx\")\n",
    "df"
   ]
  },
  {
   "cell_type": "markdown",
   "id": "2bcc04c3",
   "metadata": {},
   "source": [
    "## 进行数据分析"
   ]
  },
  {
   "cell_type": "markdown",
   "id": "635858ff",
   "metadata": {},
   "source": [
    "### 香水分类"
   ]
  },
  {
   "cell_type": "code",
   "execution_count": 18,
   "id": "da493cca",
   "metadata": {},
   "outputs": [
    {
     "data": {
      "text/html": [
       "<div>\n",
       "<style scoped>\n",
       "    .dataframe tbody tr th:only-of-type {\n",
       "        vertical-align: middle;\n",
       "    }\n",
       "\n",
       "    .dataframe tbody tr th {\n",
       "        vertical-align: top;\n",
       "    }\n",
       "\n",
       "    .dataframe thead tr th {\n",
       "        text-align: left;\n",
       "    }\n",
       "\n",
       "    .dataframe thead tr:last-of-type th {\n",
       "        text-align: right;\n",
       "    }\n",
       "</style>\n",
       "<table border=\"1\" class=\"dataframe\">\n",
       "  <thead>\n",
       "    <tr>\n",
       "      <th></th>\n",
       "      <th>count_nonzero</th>\n",
       "    </tr>\n",
       "    <tr>\n",
       "      <th></th>\n",
       "      <th>商品名称</th>\n",
       "    </tr>\n",
       "    <tr>\n",
       "      <th>分类</th>\n",
       "      <th></th>\n",
       "    </tr>\n",
       "  </thead>\n",
       "  <tbody>\n",
       "    <tr>\n",
       "      <th>其它</th>\n",
       "      <td>60</td>\n",
       "    </tr>\n",
       "    <tr>\n",
       "      <th>发香雾</th>\n",
       "      <td>12</td>\n",
       "    </tr>\n",
       "    <tr>\n",
       "      <th>古龙水</th>\n",
       "      <td>2</td>\n",
       "    </tr>\n",
       "    <tr>\n",
       "      <th>固体香水/香膏</th>\n",
       "      <td>3</td>\n",
       "    </tr>\n",
       "    <tr>\n",
       "      <th>浓香水EDP</th>\n",
       "      <td>265</td>\n",
       "    </tr>\n",
       "    <tr>\n",
       "      <th>淡香水EDT</th>\n",
       "      <td>651</td>\n",
       "    </tr>\n",
       "    <tr>\n",
       "      <th>淡香水EDT，古龙水</th>\n",
       "      <td>3</td>\n",
       "    </tr>\n",
       "    <tr>\n",
       "      <th>香体走珠</th>\n",
       "      <td>6</td>\n",
       "    </tr>\n",
       "    <tr>\n",
       "      <th>香精parfum</th>\n",
       "      <td>6</td>\n",
       "    </tr>\n",
       "    <tr>\n",
       "      <th>All</th>\n",
       "      <td>1008</td>\n",
       "    </tr>\n",
       "  </tbody>\n",
       "</table>\n",
       "</div>"
      ],
      "text/plain": [
       "           count_nonzero\n",
       "                    商品名称\n",
       "分类                      \n",
       "其它                    60\n",
       "发香雾                   12\n",
       "古龙水                    2\n",
       "固体香水/香膏                3\n",
       "浓香水EDP               265\n",
       "淡香水EDT               651\n",
       "淡香水EDT，古龙水             3\n",
       "香体走珠                   6\n",
       "香精parfum               6\n",
       "All                 1008"
      ]
     },
     "execution_count": 18,
     "metadata": {},
     "output_type": "execute_result"
    }
   ],
   "source": [
    "table1 = pd.pivot_table(df,index=[\"分类\"],\n",
    "               values=[\"商品名称\"],\n",
    "               aggfunc=[np.count_nonzero],fill_value=0,margins=True)\n",
    "table1"
   ]
  },
  {
   "cell_type": "code",
   "execution_count": 19,
   "id": "f6414944",
   "metadata": {},
   "outputs": [
    {
     "data": {
      "image/png": "[encoded data removed]",
      "text/plain": [
       "<Figure size 432x288 with 1 Axes>"
      ]
     },
     "metadata": {
      "needs_background": "light"
     },
     "output_type": "display_data"
    }
   ],
   "source": [
    "plt.bar(np.array(table1.index[0:9]),table1.values[0:9,0])\n",
    "plt.xticks(rotation=60)\n",
    "plt.title('香水分类统计')\n",
    "plt.show()"
   ]
  },
  {
   "cell_type": "markdown",
   "id": "15a849a7",
   "metadata": {},
   "source": [
    "通过以上可以看出，香水的分类还是比较丰富的，同时可以看出浓香水EDP和淡香水EDT的商品数量较多，占据绝大部分市场份额"
   ]
  },
  {
   "cell_type": "markdown",
   "id": "dd455997",
   "metadata": {},
   "source": [
    "### 香水香调"
   ]
  },
  {
   "cell_type": "code",
   "execution_count": 20,
   "id": "389c906b",
   "metadata": {},
   "outputs": [
    {
     "data": {
      "text/html": [
       "<div>\n",
       "<style scoped>\n",
       "    .dataframe tbody tr th:only-of-type {\n",
       "        vertical-align: middle;\n",
       "    }\n",
       "\n",
       "    .dataframe tbody tr th {\n",
       "        vertical-align: top;\n",
       "    }\n",
       "\n",
       "    .dataframe thead tr th {\n",
       "        text-align: left;\n",
       "    }\n",
       "\n",
       "    .dataframe thead tr:last-of-type th {\n",
       "        text-align: right;\n",
       "    }\n",
       "</style>\n",
       "<table border=\"1\" class=\"dataframe\">\n",
       "  <thead>\n",
       "    <tr>\n",
       "      <th></th>\n",
       "      <th>count_nonzero</th>\n",
       "    </tr>\n",
       "    <tr>\n",
       "      <th></th>\n",
       "      <th>商品名称</th>\n",
       "    </tr>\n",
       "    <tr>\n",
       "      <th>香调</th>\n",
       "      <th></th>\n",
       "    </tr>\n",
       "  </thead>\n",
       "  <tbody>\n",
       "    <tr>\n",
       "      <th>东方香调</th>\n",
       "      <td>60</td>\n",
       "    </tr>\n",
       "    <tr>\n",
       "      <th>其它</th>\n",
       "      <td>68</td>\n",
       "    </tr>\n",
       "    <tr>\n",
       "      <th>木质香调</th>\n",
       "      <td>46</td>\n",
       "    </tr>\n",
       "    <tr>\n",
       "      <th>木质香调，东方香调，混合香调</th>\n",
       "      <td>1</td>\n",
       "    </tr>\n",
       "    <tr>\n",
       "      <th>海洋香调</th>\n",
       "      <td>3</td>\n",
       "    </tr>\n",
       "    <tr>\n",
       "      <th>混合香调</th>\n",
       "      <td>121</td>\n",
       "    </tr>\n",
       "    <tr>\n",
       "      <th>花果香调</th>\n",
       "      <td>702</td>\n",
       "    </tr>\n",
       "    <tr>\n",
       "      <th>花果香调，东方香调</th>\n",
       "      <td>1</td>\n",
       "    </tr>\n",
       "    <tr>\n",
       "      <th>花果香调，混合香调</th>\n",
       "      <td>3</td>\n",
       "    </tr>\n",
       "    <tr>\n",
       "      <th>All</th>\n",
       "      <td>1005</td>\n",
       "    </tr>\n",
       "  </tbody>\n",
       "</table>\n",
       "</div>"
      ],
      "text/plain": [
       "               count_nonzero\n",
       "                        商品名称\n",
       "香调                          \n",
       "东方香调                      60\n",
       "其它                        68\n",
       "木质香调                      46\n",
       "木质香调，东方香调，混合香调             1\n",
       "海洋香调                       3\n",
       "混合香调                     121\n",
       "花果香调                     702\n",
       "花果香调，东方香调                  1\n",
       "花果香调，混合香调                  3\n",
       "All                     1005"
      ]
     },
     "execution_count": 20,
     "metadata": {},
     "output_type": "execute_result"
    }
   ],
   "source": [
    "table2 = pd.pivot_table(df,index=[\"香调\"],\n",
    "               values=[\"商品名称\"],\n",
    "               aggfunc=[np.count_nonzero],fill_value=0,margins=True)\n",
    "table2"
   ]
  },
  {
   "cell_type": "code",
   "execution_count": 21,
   "id": "181f131f",
   "metadata": {},
   "outputs": [
    {
     "data": {
      "image/png": "[encoded data removed]",
      "text/plain": [
       "<Figure size 432x288 with 1 Axes>"
      ]
     },
     "metadata": {
      "needs_background": "light"
     },
     "output_type": "display_data"
    }
   ],
   "source": [
    "plt.bar(np.array(table2.index[0:9]),table2.values[0:9,0])\n",
    "plt.xticks(rotation=60)\n",
    "plt.title('香水香调统计')\n",
    "plt.show()"
   ]
  },
  {
   "cell_type": "markdown",
   "id": "97597cbd",
   "metadata": {},
   "source": [
    "通过以上可以看出，香水的香调十分丰富的，同时可以看出香水商品主要以花果香调为主，占据了70%的比例"
   ]
  },
  {
   "cell_type": "markdown",
   "id": "8b063f2a",
   "metadata": {},
   "source": [
    "### 香水包装"
   ]
  },
  {
   "cell_type": "code",
   "execution_count": 22,
   "id": "ee371e37",
   "metadata": {},
   "outputs": [
    {
     "data": {
      "text/html": [
       "<div>\n",
       "<style scoped>\n",
       "    .dataframe tbody tr th:only-of-type {\n",
       "        vertical-align: middle;\n",
       "    }\n",
       "\n",
       "    .dataframe tbody tr th {\n",
       "        vertical-align: top;\n",
       "    }\n",
       "\n",
       "    .dataframe thead tr th {\n",
       "        text-align: left;\n",
       "    }\n",
       "\n",
       "    .dataframe thead tr:last-of-type th {\n",
       "        text-align: right;\n",
       "    }\n",
       "</style>\n",
       "<table border=\"1\" class=\"dataframe\">\n",
       "  <thead>\n",
       "    <tr>\n",
       "      <th></th>\n",
       "      <th>count_nonzero</th>\n",
       "    </tr>\n",
       "    <tr>\n",
       "      <th></th>\n",
       "      <th>商品名称</th>\n",
       "    </tr>\n",
       "    <tr>\n",
       "      <th>包装</th>\n",
       "      <th></th>\n",
       "    </tr>\n",
       "  </thead>\n",
       "  <tbody>\n",
       "    <tr>\n",
       "      <th>Q版香水</th>\n",
       "      <td>56</td>\n",
       "    </tr>\n",
       "    <tr>\n",
       "      <th>其它</th>\n",
       "      <td>44</td>\n",
       "    </tr>\n",
       "    <tr>\n",
       "      <th>独立装</th>\n",
       "      <td>795</td>\n",
       "    </tr>\n",
       "    <tr>\n",
       "      <th>礼品套装</th>\n",
       "      <td>72</td>\n",
       "    </tr>\n",
       "    <tr>\n",
       "      <th>组合装</th>\n",
       "      <td>20</td>\n",
       "    </tr>\n",
       "    <tr>\n",
       "      <th>限量版装</th>\n",
       "      <td>20</td>\n",
       "    </tr>\n",
       "    <tr>\n",
       "      <th>All</th>\n",
       "      <td>1007</td>\n",
       "    </tr>\n",
       "  </tbody>\n",
       "</table>\n",
       "</div>"
      ],
      "text/plain": [
       "     count_nonzero\n",
       "              商品名称\n",
       "包装                \n",
       "Q版香水            56\n",
       "其它              44\n",
       "独立装            795\n",
       "礼品套装            72\n",
       "组合装             20\n",
       "限量版装            20\n",
       "All           1007"
      ]
     },
     "execution_count": 22,
     "metadata": {},
     "output_type": "execute_result"
    }
   ],
   "source": [
    "table3 = pd.pivot_table(df,index=[\"包装\"],\n",
    "               values=[\"商品名称\"],\n",
    "               aggfunc=[np.count_nonzero],fill_value=0,margins=True)\n",
    "table3"
   ]
  },
  {
   "cell_type": "code",
   "execution_count": 23,
   "id": "15dcf4ec",
   "metadata": {},
   "outputs": [
    {
     "data": {
      "image/png": "[encoded data removed]",
      "text/plain": [
       "<Figure size 432x288 with 1 Axes>"
      ]
     },
     "metadata": {
      "needs_background": "light"
     },
     "output_type": "display_data"
    }
   ],
   "source": [
    "plt.bar(np.array(table3.index[0:6]),table3.values[0:6,0])\n",
    "plt.xticks(rotation=60)\n",
    "plt.title('香水包装统计')\n",
    "plt.show()"
   ]
  },
  {
   "cell_type": "markdown",
   "id": "f2981fb2",
   "metadata": {},
   "source": [
    "通过以上可以看出，可以看出香水商品主要以独立包装为主，占据了接近80%的比例"
   ]
  },
  {
   "cell_type": "markdown",
   "id": "53329d14",
   "metadata": {},
   "source": [
    "### 产品净含量 "
   ]
  },
  {
   "cell_type": "code",
   "execution_count": 24,
   "id": "991b3726",
   "metadata": {},
   "outputs": [
    {
     "data": {
      "text/html": [
       "<div>\n",
       "<style scoped>\n",
       "    .dataframe tbody tr th:only-of-type {\n",
       "        vertical-align: middle;\n",
       "    }\n",
       "\n",
       "    .dataframe tbody tr th {\n",
       "        vertical-align: top;\n",
       "    }\n",
       "\n",
       "    .dataframe thead tr th {\n",
       "        text-align: left;\n",
       "    }\n",
       "\n",
       "    .dataframe thead tr:last-of-type th {\n",
       "        text-align: right;\n",
       "    }\n",
       "</style>\n",
       "<table border=\"1\" class=\"dataframe\">\n",
       "  <thead>\n",
       "    <tr>\n",
       "      <th></th>\n",
       "      <th>count_nonzero</th>\n",
       "    </tr>\n",
       "    <tr>\n",
       "      <th></th>\n",
       "      <th>商品名称</th>\n",
       "    </tr>\n",
       "    <tr>\n",
       "      <th>净含量</th>\n",
       "      <th></th>\n",
       "    </tr>\n",
       "  </thead>\n",
       "  <tbody>\n",
       "    <tr>\n",
       "      <th>101ml-200ml</th>\n",
       "      <td>13</td>\n",
       "    </tr>\n",
       "    <tr>\n",
       "      <th>16ml-30ml</th>\n",
       "      <td>147</td>\n",
       "    </tr>\n",
       "    <tr>\n",
       "      <th>1ml-15ml</th>\n",
       "      <td>103</td>\n",
       "    </tr>\n",
       "    <tr>\n",
       "      <th>200ml以上</th>\n",
       "      <td>6</td>\n",
       "    </tr>\n",
       "    <tr>\n",
       "      <th>31ml-100ml</th>\n",
       "      <td>594</td>\n",
       "    </tr>\n",
       "    <tr>\n",
       "      <th>其它</th>\n",
       "      <td>144</td>\n",
       "    </tr>\n",
       "    <tr>\n",
       "      <th>All</th>\n",
       "      <td>1007</td>\n",
       "    </tr>\n",
       "  </tbody>\n",
       "</table>\n",
       "</div>"
      ],
      "text/plain": [
       "            count_nonzero\n",
       "                     商品名称\n",
       "净含量                      \n",
       "101ml-200ml            13\n",
       "16ml-30ml             147\n",
       "1ml-15ml              103\n",
       "200ml以上                 6\n",
       "31ml-100ml            594\n",
       "其它                    144\n",
       "All                  1007"
      ]
     },
     "execution_count": 24,
     "metadata": {},
     "output_type": "execute_result"
    }
   ],
   "source": [
    "table4 = pd.pivot_table(df,index=[\"净含量\"],\n",
    "               values=[\"商品名称\"],\n",
    "               aggfunc=[np.count_nonzero],fill_value=0,margins=True)\n",
    "table4"
   ]
  },
  {
   "cell_type": "code",
   "execution_count": 25,
   "id": "55a0b8de",
   "metadata": {},
   "outputs": [
    {
     "data": {
      "image/png": "[encoded data removed]",
      "text/plain": [
       "<Figure size 432x288 with 1 Axes>"
      ]
     },
     "metadata": {
      "needs_background": "light"
     },
     "output_type": "display_data"
    }
   ],
   "source": [
    "plt.bar(np.array(table4.index[0:6]),table4.values[0:6,0])\n",
    "plt.xticks(rotation=60)\n",
    "plt.title('香水净含量统计')\n",
    "plt.show()"
   ]
  },
  {
   "cell_type": "markdown",
   "id": "c01f582b",
   "metadata": {},
   "source": [
    "通过以上可以看出，可以看出香水精含量主要以31ml-100ml为主，也代表大部分香水消费者的使用习惯"
   ]
  },
  {
   "cell_type": "code",
   "execution_count": null,
   "id": "64abd0cd",
   "metadata": {},
   "outputs": [],
   "source": []
  }
 ],
 "metadata": {
  "kernelspec": {
   "display_name": "Python [conda env:py37]",
   "language": "python",
   "name": "conda-env-py37-py"
  },
  "language_info": {
   "codemirror_mode": {
    "name": "ipython",
    "version": 3
   },
   "file_extension": ".py",
   "mimetype": "text/x-python",
   "name": "python",
   "nbconvert_exporter": "python",
   "pygments_lexer": "ipython3",
   "version": "3.7.10"
  }
 },
 "nbformat": 4,
 "nbformat_minor": 5
}
